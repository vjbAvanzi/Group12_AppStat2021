{
  "nbformat": 4,
  "nbformat_minor": 0,
  "metadata": {
    "colab": {
      "name": "pendulum_1.ipynb",
      "provenance": [],
      "collapsed_sections": [],
      "include_colab_link": true
    },
    "kernelspec": {
      "display_name": "Python 3",
      "language": "python",
      "name": "python3"
    },
    "language_info": {
      "codemirror_mode": {
        "name": "ipython",
        "version": 3
      },
      "file_extension": ".py",
      "mimetype": "text/x-python",
      "name": "python",
      "nbconvert_exporter": "python",
      "pygments_lexer": "ipython3",
      "version": "3.8.8"
    }
  },
  "cells": [
    {
      "cell_type": "markdown",
      "metadata": {
        "id": "view-in-github",
        "colab_type": "text"
      },
      "source": [
        "<a href=\"https://colab.research.google.com/github/vjbAvanzi/Group12_AppStat2021/blob/main/pendulum_Clear'n'working.ipynb\" target=\"_parent\"><img src=\"https://colab.research.google.com/assets/colab-badge.svg\" alt=\"Open In Colab\"/></a>"
      ]
    },
    {
      "cell_type": "markdown",
      "metadata": {
        "id": "eQMxSRlNloV3"
      },
      "source": [
        "# Analyze pendulum data\n",
        "Use this notebook to quickly test whether your pendulum data makes sense!"
      ]
    },
    {
      "cell_type": "code",
      "metadata": {
        "colab": {
          "base_uri": "https://localhost:8080/"
        },
        "id": "LgFrG2KpyKek",
        "outputId": "84610923-9e49-4d25-b6ce-922ce3ace56b"
      },
      "source": [
        "!pip install iminuit"
      ],
      "execution_count": null,
      "outputs": [
        {
          "output_type": "stream",
          "name": "stdout",
          "text": [
            "Collecting iminuit\n",
            "  Downloading iminuit-2.8.4-cp37-cp37m-manylinux_2_12_x86_64.manylinux2010_x86_64.whl (334 kB)\n",
            "\u001b[?25l\r\u001b[K     |█                               | 10 kB 22.8 MB/s eta 0:00:01\r\u001b[K     |██                              | 20 kB 29.8 MB/s eta 0:00:01\r\u001b[K     |███                             | 30 kB 20.8 MB/s eta 0:00:01\r\u001b[K     |████                            | 40 kB 17.7 MB/s eta 0:00:01\r\u001b[K     |█████                           | 51 kB 8.4 MB/s eta 0:00:01\r\u001b[K     |█████▉                          | 61 kB 7.3 MB/s eta 0:00:01\r\u001b[K     |██████▉                         | 71 kB 8.1 MB/s eta 0:00:01\r\u001b[K     |███████▉                        | 81 kB 9.0 MB/s eta 0:00:01\r\u001b[K     |████████▉                       | 92 kB 9.6 MB/s eta 0:00:01\r\u001b[K     |█████████▉                      | 102 kB 7.9 MB/s eta 0:00:01\r\u001b[K     |██████████▉                     | 112 kB 7.9 MB/s eta 0:00:01\r\u001b[K     |███████████▊                    | 122 kB 7.9 MB/s eta 0:00:01\r\u001b[K     |████████████▊                   | 133 kB 7.9 MB/s eta 0:00:01\r\u001b[K     |█████████████▊                  | 143 kB 7.9 MB/s eta 0:00:01\r\u001b[K     |██████████████▊                 | 153 kB 7.9 MB/s eta 0:00:01\r\u001b[K     |███████████████▊                | 163 kB 7.9 MB/s eta 0:00:01\r\u001b[K     |████████████████▊               | 174 kB 7.9 MB/s eta 0:00:01\r\u001b[K     |█████████████████▋              | 184 kB 7.9 MB/s eta 0:00:01\r\u001b[K     |██████████████████▋             | 194 kB 7.9 MB/s eta 0:00:01\r\u001b[K     |███████████████████▋            | 204 kB 7.9 MB/s eta 0:00:01\r\u001b[K     |████████████████████▋           | 215 kB 7.9 MB/s eta 0:00:01\r\u001b[K     |█████████████████████▋          | 225 kB 7.9 MB/s eta 0:00:01\r\u001b[K     |██████████████████████▌         | 235 kB 7.9 MB/s eta 0:00:01\r\u001b[K     |███████████████████████▌        | 245 kB 7.9 MB/s eta 0:00:01\r\u001b[K     |████████████████████████▌       | 256 kB 7.9 MB/s eta 0:00:01\r\u001b[K     |█████████████████████████▌      | 266 kB 7.9 MB/s eta 0:00:01\r\u001b[K     |██████████████████████████▌     | 276 kB 7.9 MB/s eta 0:00:01\r\u001b[K     |███████████████████████████▌    | 286 kB 7.9 MB/s eta 0:00:01\r\u001b[K     |████████████████████████████▍   | 296 kB 7.9 MB/s eta 0:00:01\r\u001b[K     |█████████████████████████████▍  | 307 kB 7.9 MB/s eta 0:00:01\r\u001b[K     |██████████████████████████████▍ | 317 kB 7.9 MB/s eta 0:00:01\r\u001b[K     |███████████████████████████████▍| 327 kB 7.9 MB/s eta 0:00:01\r\u001b[K     |████████████████████████████████| 334 kB 7.9 MB/s \n",
            "\u001b[?25hRequirement already satisfied: numpy in /usr/local/lib/python3.7/dist-packages (from iminuit) (1.19.5)\n",
            "Installing collected packages: iminuit\n",
            "Successfully installed iminuit-2.8.4\n"
          ]
        }
      ]
    },
    {
      "cell_type": "code",
      "metadata": {
        "id": "NHMqY508loV-"
      },
      "source": [
        "# Imports\n",
        "import numpy as np\n",
        "import matplotlib.pyplot as plt\n",
        "import pandas as pd\n",
        "from iminuit import Minuit\n",
        "from scipy import stats"
      ],
      "execution_count": null,
      "outputs": []
    },
    {
      "cell_type": "code",
      "source": [
        "# Import ExternalFunctions from the github repo.\n",
        "# Save ExternalFunctions as a local file\n",
        "# Import functions as usual\n",
        "# This ensure that the code will run in any directory on any system that we could possibly use (e.g. google colab)\n",
        "\n",
        "import requests\n",
        "\n",
        "url = 'https://raw.githubusercontent.com/AppliedStatisticsNBI/AppStat2021/main/External_Functions/ExternalFunctions.py'\n",
        "with open('{}.py'.format('ExternalFunctions'), 'w') as file:\n",
        "    file.write(requests.get(url).text)\n",
        "\n",
        "from ExternalFunctions import Chi2Regression"
      ],
      "metadata": {
        "id": "vGF8wAAUZIrN"
      },
      "execution_count": null,
      "outputs": []
    },
    {
      "cell_type": "code",
      "metadata": {
        "id": "5t8PExcVeXH-"
      },
      "source": [
        "# Load data from github\n",
        "from urllib.request import urlopen\n",
        "\n",
        "order_url=1\n",
        "testurls = ['https://raw.githubusercontent.com/vjbAvanzi/Group12_AppStat2021/main/Pendulum/Pat1.dat',\n",
        "           'https://raw.githubusercontent.com/vjbAvanzi/Group12_AppStat2021/main/Pendulum/Ariel1.dat',\n",
        "           'https://raw.githubusercontent.com/vjbAvanzi/Group12_AppStat2021/main/Pendulum/Nathan1.dat',\n",
        "           'https://raw.githubusercontent.com/vjbAvanzi/Group12_AppStat2021/main/Pendulum/Nathan2.dat',\n",
        "           'https://raw.githubusercontent.com/vjbAvanzi/Group12_AppStat20201/main/Pendulum/svend1.dat']\n",
        "testurl = testurls[order_url]\n",
        "r = urlopen(testurl)\n",
        "#print(r)\n",
        "#for line in r:\n",
        "#    print(line)"
      ],
      "execution_count": 155,
      "outputs": []
    },
    {
      "cell_type": "code",
      "metadata": {
        "colab": {
          "base_uri": "https://localhost:8080/",
          "height": 896
        },
        "id": "A9ymHCQX3HBf",
        "outputId": "a13e1a6d-21d2-4979-b9af-6320834e6859"
      },
      "source": [
        "#Data reader\n",
        "timings=pd.read_csv(testurl,delimiter='\\t',header=None).drop([0],axis='columns')\n",
        "timings.columns=['Time']\n",
        "timings"
      ],
      "execution_count": 149,
      "outputs": [
        {
          "output_type": "execute_result",
          "data": {
            "text/html": [
              "<div>\n",
              "<style scoped>\n",
              "    .dataframe tbody tr th:only-of-type {\n",
              "        vertical-align: middle;\n",
              "    }\n",
              "\n",
              "    .dataframe tbody tr th {\n",
              "        vertical-align: top;\n",
              "    }\n",
              "\n",
              "    .dataframe thead th {\n",
              "        text-align: right;\n",
              "    }\n",
              "</style>\n",
              "<table border=\"1\" class=\"dataframe\">\n",
              "  <thead>\n",
              "    <tr style=\"text-align: right;\">\n",
              "      <th></th>\n",
              "      <th>Time</th>\n",
              "    </tr>\n",
              "  </thead>\n",
              "  <tbody>\n",
              "    <tr>\n",
              "      <th>0</th>\n",
              "      <td>8.5809</td>\n",
              "    </tr>\n",
              "    <tr>\n",
              "      <th>1</th>\n",
              "      <td>17.2723</td>\n",
              "    </tr>\n",
              "    <tr>\n",
              "      <th>2</th>\n",
              "      <td>25.7954</td>\n",
              "    </tr>\n",
              "    <tr>\n",
              "      <th>3</th>\n",
              "      <td>34.4765</td>\n",
              "    </tr>\n",
              "    <tr>\n",
              "      <th>4</th>\n",
              "      <td>42.9670</td>\n",
              "    </tr>\n",
              "    <tr>\n",
              "      <th>5</th>\n",
              "      <td>51.6539</td>\n",
              "    </tr>\n",
              "    <tr>\n",
              "      <th>6</th>\n",
              "      <td>60.2502</td>\n",
              "    </tr>\n",
              "    <tr>\n",
              "      <th>7</th>\n",
              "      <td>68.8632</td>\n",
              "    </tr>\n",
              "    <tr>\n",
              "      <th>8</th>\n",
              "      <td>77.5452</td>\n",
              "    </tr>\n",
              "    <tr>\n",
              "      <th>9</th>\n",
              "      <td>86.0637</td>\n",
              "    </tr>\n",
              "    <tr>\n",
              "      <th>10</th>\n",
              "      <td>94.6137</td>\n",
              "    </tr>\n",
              "    <tr>\n",
              "      <th>11</th>\n",
              "      <td>103.1984</td>\n",
              "    </tr>\n",
              "    <tr>\n",
              "      <th>12</th>\n",
              "      <td>111.8584</td>\n",
              "    </tr>\n",
              "    <tr>\n",
              "      <th>13</th>\n",
              "      <td>120.5018</td>\n",
              "    </tr>\n",
              "    <tr>\n",
              "      <th>14</th>\n",
              "      <td>129.1572</td>\n",
              "    </tr>\n",
              "    <tr>\n",
              "      <th>15</th>\n",
              "      <td>137.6319</td>\n",
              "    </tr>\n",
              "    <tr>\n",
              "      <th>16</th>\n",
              "      <td>146.4506</td>\n",
              "    </tr>\n",
              "    <tr>\n",
              "      <th>17</th>\n",
              "      <td>155.0643</td>\n",
              "    </tr>\n",
              "    <tr>\n",
              "      <th>18</th>\n",
              "      <td>163.5564</td>\n",
              "    </tr>\n",
              "    <tr>\n",
              "      <th>19</th>\n",
              "      <td>172.2748</td>\n",
              "    </tr>\n",
              "    <tr>\n",
              "      <th>20</th>\n",
              "      <td>180.7183</td>\n",
              "    </tr>\n",
              "    <tr>\n",
              "      <th>21</th>\n",
              "      <td>189.4708</td>\n",
              "    </tr>\n",
              "    <tr>\n",
              "      <th>22</th>\n",
              "      <td>197.9639</td>\n",
              "    </tr>\n",
              "    <tr>\n",
              "      <th>23</th>\n",
              "      <td>206.7220</td>\n",
              "    </tr>\n",
              "    <tr>\n",
              "      <th>24</th>\n",
              "      <td>215.4481</td>\n",
              "    </tr>\n",
              "    <tr>\n",
              "      <th>25</th>\n",
              "      <td>223.9398</td>\n",
              "    </tr>\n",
              "    <tr>\n",
              "      <th>26</th>\n",
              "      <td>232.6049</td>\n",
              "    </tr>\n",
              "  </tbody>\n",
              "</table>\n",
              "</div>"
            ],
            "text/plain": [
              "        Time\n",
              "0     8.5809\n",
              "1    17.2723\n",
              "2    25.7954\n",
              "3    34.4765\n",
              "4    42.9670\n",
              "5    51.6539\n",
              "6    60.2502\n",
              "7    68.8632\n",
              "8    77.5452\n",
              "9    86.0637\n",
              "10   94.6137\n",
              "11  103.1984\n",
              "12  111.8584\n",
              "13  120.5018\n",
              "14  129.1572\n",
              "15  137.6319\n",
              "16  146.4506\n",
              "17  155.0643\n",
              "18  163.5564\n",
              "19  172.2748\n",
              "20  180.7183\n",
              "21  189.4708\n",
              "22  197.9639\n",
              "23  206.7220\n",
              "24  215.4481\n",
              "25  223.9398\n",
              "26  232.6049"
            ]
          },
          "metadata": {},
          "execution_count": 149
        }
      ]
    },
    {
      "cell_type": "markdown",
      "metadata": {
        "id": "BnYxYpI6loWD"
      },
      "source": [
        "## Read and plot the data\n",
        "\n",
        "> Get chi2 and plot\n",
        "\n",
        "\n"
      ]
    },
    {
      "cell_type": "code",
      "source": [
        "timings = np.array(timings) #data conversione (pd.dataframe to np.array)\n",
        "\n",
        "def Linear_fit(x, alpha0, alpha1):\n",
        "  return alpha1*x + alpha0\n",
        "\n",
        "def Fit_timing(timing):\n",
        "  n_points = np.arange(len(timing))\n",
        "  sigma_timing = 0.0496 #after evaluating each time we subtitute\n",
        "  chi2fit = Chi2Regression(Linear_fit, n_points, timing, sigma_timing)\n",
        "  minuit_fit = Minuit(chi2fit, alpha0 = 0.0, alpha1 = 7.0)\n",
        "  minuit_fit.errordef = 1.0\n",
        "  minuit_fit.migrad()\n",
        "  for name in minuit_fit.parameters:\n",
        "    print(\"Fit value (exp) : {0} = {1:.5f} +/- {2:.5f}\".format(name, minuit_fit.values[name], minuit_fit.errors[name]))\n",
        "\n",
        "  chi2 = minuit_fit.fmin.fval\n",
        "  Ndof = len(timing) - len(minuit_fit.values[:])\n",
        "  Prob = stats.chi2.sf(chi2, Ndof)\n",
        "  print(f\"Model fit: Prob(Chi2={chi2:6.1f}, Ndof={Ndof:3d}) = {Prob:7.5f}\")\n",
        "\n",
        "  alpha0_fit, alpha1_fit = minuit_fit.values[:]\n",
        "  erroralpha0_fit, erroralpha1_fit = minuit.errors[:]\n",
        "\n",
        "  #can be made prettier\n",
        "\n",
        "  fig, ax = plt.subplots(figsize=(14, 6))\n",
        "  ax.errorbar(n_points, timing, yerr=sigma_timing, label = 'Measurements', color= 'k', fmt='o')\n",
        "  xaxis = np.linspace(n_points[0], n_points[-1], 100)\n",
        "  yaxis = Linear_fit(xaxis, alpha0_fit, alpha1_fit)\n",
        "  ax.plot(xaxis,yaxis, label=f'Linear Fit (Chi2 = {chi2:6.1f})')\n",
        "  ax.set_title(\"Pendulum Timings\")\n",
        "  ax.set_ylabel(\"Time(s)\")\n",
        "  ax.set_xlabel(\"Numbers of data aquisition\")\n",
        "  ax.legend(loc='best')\n",
        "\n",
        "\n",
        "\n",
        "  return alpha0_fit, alpha1_fit\n",
        "\n"
      ],
      "metadata": {
        "id": "GHJ1PBmKRWIN"
      },
      "execution_count": 154,
      "outputs": []
    },
    {
      "cell_type": "code",
      "source": [
        "t = timings.flatten() #somehow timings is a (26,1)\n",
        "#print(len(t))\n",
        "alpha0, alpha1 = Fit_timing(t)"
      ],
      "metadata": {
        "colab": {
          "base_uri": "https://localhost:8080/",
          "height": 459
        },
        "id": "hgbzFHUdcsT8",
        "outputId": "26da7eea-0e65-4dd7-c6ab-b6fd7513da32"
      },
      "execution_count": 152,
      "outputs": [
        {
          "output_type": "stream",
          "name": "stdout",
          "text": [
            "Fit value (exp) : alpha0 = 8.55866 +/- 0.01857\n",
            "Fit value (exp) : alpha1 = 8.61413 +/- 0.00123\n",
            "Model fit: Prob(Chi2=  58.3, Ndof= 25) = 0.00018\n"
          ]
        },
        {
          "output_type": "display_data",
          "data": {
            "image/png": "[encoded data removed]",
            "text/plain": [
              "<Figure size 1008x432 with 1 Axes>"
            ]
          },
          "metadata": {
            "needs_background": "light"
          }
        }
      ]
    },
    {
      "cell_type": "code",
      "source": [
        "\n",
        "Test_time = []\n",
        "Test_N = np.arange(len(t))\n",
        "Nbins = 4\n",
        "xmin = -0.1\n",
        "xmax = 0.1\n",
        "for i in range(len(t)):\n",
        "  Test_time.append(Linear_fit(Test_N[i], alpha0, alpha1))\n",
        "#print(Test_time)\n",
        "\n",
        "Residuals = t - Test_time\n",
        "Mean_R = Residuals.sum()/len(Residuals)\n",
        "print(f'The algebric mean of the residuals for {Residuals} is: {Mean_R:.20f}')\n",
        "\n",
        "def gauss_fit(x, mu,sigma):\n",
        "  return 1/np.sqrt(2*np.pi)/sigma*np.exp(-0.5*(x-mu)**2/sigma**2)\n",
        "\n",
        "fig2, ax2 = plt.subplots(nrows=2)\n",
        "\n",
        "ax2[0].plot(Residuals, color='b')\n",
        "ax2[0].set(xlabel=\"Data points\", ylabel=\"Time(s)\", title=\"Residuals\")\n",
        "histo = ax2[1].hist(Residuals, bins=Nbins, range=(xmin,xmax))\n",
        "\n",
        "counts, bin_edges = np.histogram(Residuals, bins=Nbins, range=(xmin, xmax))\n",
        "x = (bin_edges[1:][counts>0] + bin_edges[:-1][counts>0])/2\n",
        "y = counts[counts>0]\n",
        "sig_y = np.sqrt(counts[counts>0]) #error on bins Poisson distributed\n",
        "\n",
        "ax2[1].errorbar(x, y, yerr=sig_y, xerr = 0.0, label='Resibuals with Poisson errors', fmt = '.k', ecolor = 'k')\n",
        "ax2[1].set(xlabel= \"Time residuals(s)\",ylabel = \"counts\", title=\"Histogram of residuals\")\n",
        "\n",
        "Chi2_Res = Chi2Regression(gauss_fit, x, y, sig_y)\n",
        "\n",
        "minuit_Regression = Minuit(Chi2_Res, mu = 0.1, sigma = 0.2 )\n",
        "minuit_Regression.errordef = 1.0\n",
        "minuit_Regression.migrad()\n",
        "\n",
        "mu_fit, sigma_fit = minuit_Regression.values[:]\n",
        "\n",
        "for name in minuit_Regression.parameters:\n",
        "  print(\"Residuals fit value (fit) = {0} = {1:.5f} +/- {2:.5f}\".format(name, minuit_Regression.values[name], minuit_Regression.errors[name]))\n",
        "\n",
        "\n",
        "\n"
      ],
      "metadata": {
        "id": "R19wsgBxmvKC",
        "colab": {
          "base_uri": "https://localhost:8080/",
          "height": 424
        },
        "outputId": "b7697b39-95e9-479c-d550-7ab9a0606974"
      },
      "execution_count": 153,
      "outputs": [
        {
          "output_type": "stream",
          "name": "stdout",
          "text": [
            "The algebric mean of the residuals for [ 0.02223651  0.09950635  0.00847619  0.07544603 -0.04818413  0.02458571\n",
            "  0.00675556  0.0056254   0.07349524 -0.02213492 -0.08626508 -0.11569524\n",
            " -0.0698254  -0.04055556  0.00071429 -0.13871587  0.06585397  0.06542381\n",
            " -0.05660635  0.04766349 -0.12296667  0.01540317 -0.10562698  0.03834286\n",
            "  0.1503127   0.02788254  0.07885238] is: -0.00000000000377232402\n",
            "Residuals fit value (fit) = mu = 0.03482 +/- 0.01361\n",
            "Residuals fit value (fit) = sigma = 0.04757 +/- 0.02954\n"
          ]
        },
        {
          "output_type": "display_data",
          "data": {
            "image/png": "[encoded data removed]",
            "text/plain": [
              "<Figure size 432x288 with 2 Axes>"
            ]
          },
          "metadata": {
            "needs_background": "light"
          }
        }
      ]
    },
    {
      "cell_type": "code",
      "source": [
        ""
      ],
      "metadata": {
        "id": "mPKA1oAhuBUr"
      },
      "execution_count": null,
      "outputs": []
    },
    {
      "cell_type": "markdown",
      "metadata": {
        "id": "B1rC9-AIloWG"
      },
      "source": [
        "# What to do next?\n",
        "\n",
        "The reason for the (empty) plot below is, that though your data (hopefully) lies on a line, you're not able to see any smaller effects. However, if you plot the __residuals__ (the difference between your measurements and a fit to them), then you will much better be able to tell, if the data looks good. Also, it is from a historgram of the residuals, that you can determine, if your errors are Gaussian (or have any obvious outliers), and from the Standard Deviation what your (typical) uncertainty is."
      ]
    },
    {
      "cell_type": "code",
      "metadata": {
        "id": "xKwBxn7hloWH"
      },
      "source": [
        ""
      ],
      "execution_count": null,
      "outputs": []
    },
    {
      "cell_type": "code",
      "metadata": {
        "id": "cJHAeILRloWI"
      },
      "source": [
        "from IPython.core.display import Latex\n",
        "\n",
        "def lprint(*args,**kwargs):\n",
        "    \"\"\"Pretty print arguments as LaTeX using IPython display system \n",
        "    \n",
        "    Parameters\n",
        "  \n",
        "    ----------\n",
        "    args : tuple \n",
        "        What to print (in LaTeX math mode)\n",
        "    kwargs : dict \n",
        "        optional keywords to pass to `display` \n",
        "    \"\"\"\n",
        "    display(Latex('$$'+' '.join(args)+'$$'),**kwargs)"
      ],
      "execution_count": null,
      "outputs": []
    },
    {
      "cell_type": "code",
      "metadata": {
        "id": "UPvLGithloWJ",
        "outputId": "8921816c-d8c9-4ef4-dce0-2ec6bc745ccf",
        "colab": {
          "base_uri": "https://localhost:8080/",
          "height": 72
        }
      },
      "source": [
        "from sympy import *\n",
        "\n",
        "g, L , T = symbols(\"g, L, T\")\n",
        "dg, dL, dT = symbols(\"sigma_g, sigma_L, sigma_T\")\n",
        "\n",
        "g = L * (2*pi / T)**2\n",
        "dg = sqrt((g.diff(L) * dL)**2 + (g.diff(T) * dT)**2)\n",
        "lprint(latex(Eq(symbols('g'),g)))\n",
        "lprint(latex(Eq(symbols('sigma_g'), dg)))"
      ],
      "execution_count": null,
      "outputs": [
        {
          "output_type": "display_data",
          "data": {
            "text/latex": "$$g = \\frac{4 \\pi^{2} L}{T^{2}}$$",
            "text/plain": [
              "<IPython.core.display.Latex object>"
            ]
          },
          "metadata": {}
        },
        {
          "output_type": "display_data",
          "data": {
            "text/latex": "$$\\sigma_{g} = \\sqrt{\\frac{64 \\pi^{4} L^{2} \\sigma_{T}^{2}}{T^{6}} + \\frac{16 \\pi^{4} \\sigma_{L}^{2}}{T^{4}}}$$",
            "text/plain": [
              "<IPython.core.display.Latex object>"
            ]
          },
          "metadata": {}
        }
      ]
    },
    {
      "cell_type": "code",
      "metadata": {
        "id": "iC3x_VGGloWK"
      },
      "source": [
        ""
      ],
      "execution_count": null,
      "outputs": []
    }
  ]
}