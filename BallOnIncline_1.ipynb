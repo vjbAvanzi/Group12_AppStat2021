{
 "cells": [
  {
   "cell_type": "markdown",
   "metadata": {},
   "source": [
    "# Analyze Ball on Incline data\n",
    "Use this notebook to quickly test whether your ball on incline data makes sense!"
   ]
  },
  {
   "cell_type": "code",
   "execution_count": 1,
   "metadata": {},
   "outputs": [],
   "source": [
    "# Imports\n",
    "import os, sys\n",
    "import numpy as np\n",
    "import matplotlib.pyplot as plt\n",
    "\n",
    "from iminuit import Minuit\n",
    "sys.path.append('../../External_Functions')\n",
    "from ExternalFunctions import Chi2Regression"
   ]
  },
  {
   "cell_type": "markdown",
   "metadata": {},
   "source": [
    "## Reading the data\n",
    "\n",
    "The function \"read_csv(filename)\" takes in a filename and returns numpy arrays with time and voltage."
   ]
  },
  {
   "cell_type": "code",
   "execution_count": 2,
   "metadata": {},
   "outputs": [],
   "source": [
    "def read_csv(filename):\n",
    "    \"\"\"Read CSV from Waveforms\"\"\"\n",
    "    dat = np.genfromtxt(filename, delimiter=',', skip_header=13, names=True)\n",
    "    time = dat['Time_s']\n",
    "    voltage = dat['Channel_1_V']\n",
    "    return time, voltage\n",
    "\n",
    "def find_midpoints(time, voltage, show_plot=True):\n",
    "    \"\"\"Find midpoints -- quick and dirty\"\"\"\n",
    "    \n",
    "    # Write a function yourself, which identifies the peaks in the voltage,\n",
    "    # and returns values for passing times and (possibly) their uncertainties in it.\n",
    "    t_pass = [0.0, 0.1]\n",
    "    t_pass_sigma = [0.0001, 0.00001]\n",
    "    \n",
    "    return t_pass, t_pass_sigma"
   ]
  },
  {
   "cell_type": "code",
   "execution_count": 3,
   "metadata": {
    "code_folding": []
   },
   "outputs": [
    {
     "data": {
      "text/plain": [
       "Text(0, 0.5, 'Voltage (V)')"
      ]
     },
     "execution_count": 3,
     "metadata": {},
     "output_type": "execute_result"
    },
    {
     "data": {
      "image/png": "[encoded data removed]",
      "text/plain": [
       "<Figure size 1008x432 with 1 Axes>"
      ]
     },
     "metadata": {
      "needs_background": "light"
     },
     "output_type": "display_data"
    }
   ],
   "source": [
    "# Read the data and plot it (possibly with passing times in):\n",
    "filename = 'data_BallOnIncline_example/ball7_8mm_example.csv'\n",
    "\n",
    "time, voltage = read_csv(filename)\n",
    "timepass, timepass_sig = find_midpoints(time, voltage)\n",
    "\n",
    "fig, ax = plt.subplots(figsize=(14, 6))\n",
    "ax.plot(time, voltage, 'k.', label='Measurements')\n",
    "# ax.set_xlim(chi2_minpos-2*min_fit, chi2_minpos+2*max_fit)\n",
    "ax.set_title(\"Data from Ball-on-Incline experiment\")\n",
    "ax.set_xlabel(\"Time (s)\")\n",
    "ax.set_ylabel(\"Voltage (V)\")"
   ]
  },
  {
   "cell_type": "code",
   "execution_count": null,
   "metadata": {},
   "outputs": [],
   "source": []
  },
  {
   "cell_type": "code",
   "execution_count": 4,
   "metadata": {},
   "outputs": [],
   "source": [
    "from IPython.core.display import Latex\n",
    "\n",
    "def lprint(*args,**kwargs):\n",
    "    \"\"\"Pretty print arguments as LaTeX using IPython display system \n",
    "    \n",
    "    Parameters\n",
    "    ----------\n",
    "    args : tuple \n",
    "        What to print (in LaTeX math mode)\n",
    "    kwargs : dict \n",
    "        optional keywords to pass to `display` \n",
    "    \"\"\"\n",
    "    display(Latex('$$'+' '.join(args)+'$$'),**kwargs)"
   ]
  },
  {
   "cell_type": "code",
   "execution_count": 6,
   "metadata": {},
   "outputs": [
    {
     "data": {
      "text/latex": [
       "$$g = \\frac{a \\left(\\frac{0.4 R^{2}}{R^{2} + \\frac{d^{2}}{4}} + 1\\right)}{\\sin{\\left(\\Delta_{\\theta} + \\theta \\right)}}$$"
      ],
      "text/plain": [
       "<IPython.core.display.Latex object>"
      ]
     },
     "metadata": {},
     "output_type": "display_data"
    },
    {
     "data": {
      "text/latex": [
       "$$\\text{True}$$"
      ],
      "text/plain": [
       "<IPython.core.display.Latex object>"
      ]
     },
     "metadata": {},
     "output_type": "display_data"
    },
    {
     "data": {
      "text/latex": [
       "$$\\text{True}$$"
      ],
      "text/plain": [
       "<IPython.core.display.Latex object>"
      ]
     },
     "metadata": {},
     "output_type": "display_data"
    },
    {
     "data": {
      "text/latex": [
       "$$\\sigma_{g} = \\sqrt{\\frac{0.04 R^{4} a^{2} d^{2} \\sigma_{d}^{2}}{\\left(R^{2} + \\frac{d^{2}}{4}\\right)^{4} \\sin^{2}{\\left(\\Delta_{\\theta} + \\theta \\right)}} + \\frac{a^{2} \\sigma_{\\Delta \\theta}^{2} \\left(\\frac{0.4 R^{2}}{R^{2} + \\frac{d^{2}}{4}} + 1\\right)^{2} \\cos^{2}{\\left(\\Delta_{\\theta} + \\theta \\right)}}{\\sin^{4}{\\left(\\Delta_{\\theta} + \\theta \\right)}} + \\frac{0.64 a^{2} \\sigma_{R}^{2} \\left(- \\frac{R^{3}}{\\left(R^{2} + \\frac{d^{2}}{4}\\right)^{2}} + \\frac{R}{R^{2} + \\frac{d^{2}}{4}}\\right)^{2}}{\\sin^{2}{\\left(\\Delta_{\\theta} + \\theta \\right)}} + \\frac{a^{2} \\sigma_{\\theta}^{2} \\left(\\frac{0.4 R^{2}}{R^{2} + \\frac{d^{2}}{4}} + 1\\right)^{2} \\cos^{2}{\\left(\\Delta_{\\theta} + \\theta \\right)}}{\\sin^{4}{\\left(\\Delta_{\\theta} + \\theta \\right)}} + \\frac{\\sigma_{a}^{2} \\left(\\frac{0.4 R^{2}}{R^{2} + \\frac{d^{2}}{4}} + 1\\right)^{2}}{\\sin^{2}{\\left(\\Delta_{\\theta} + \\theta \\right)}}}$$"
      ],
      "text/plain": [
       "<IPython.core.display.Latex object>"
      ]
     },
     "metadata": {},
     "output_type": "display_data"
    }
   ],
   "source": [
    "from sympy import *\n",
    "\n",
    "g, a, s, v, t, x0, theta, Dt, R, d = symbols(\"g, a, s, v, t, x_0, theta, Delta_theta, R, d\")\n",
    "dg, da, ds, dv, dt, dx0, dtheta, dDt, dR, dd = symbols(\"sigma_g, sigma_a, sigma_s, sigma_v, sigma_t, sigma_x_0, sigma_theta, sigma_Delta_theta, sigma_R, sigma_d\")\n",
    "g = (a /sin(theta + Dt))*(1 + (2/5)*(R**2)/(R**2 + (d/2)**2))\n",
    "#s = 1/2 * a*t**2 + v*t + x0\n",
    "#a = 2*(s - v*t - x0)/t**2\n",
    "#da = sqrt((a.diff(t)*dt)**2 + (a.diff(s)*ds)**2)\n",
    "dg = sqrt((g.diff(a)*da)**2 + (g.diff(theta)*dtheta)**2 + (g.diff(Dt)*dDt)**2 + (g.diff(R)*dR)**2 + (g.diff(d)*dd)**2)\n",
    "lprint(latex(Eq(symbols('g'), g)))\n",
    "lprint(latex(Eq(symbols('a'), a)))\n",
    "lprint(latex(Eq(symbols('sigma_a'), da)))\n",
    "lprint(latex(Eq(symbols('sigma_g'), dg)))\n"
   ]
  },
  {
   "cell_type": "code",
   "execution_count": null,
   "metadata": {},
   "outputs": [],
   "source": []
  }
 ],
 "metadata": {
  "kernelspec": {
   "display_name": "Python 3",
   "language": "python",
   "name": "python3"
  },
  "language_info": {
   "codemirror_mode": {
    "name": "ipython",
    "version": 3
   },
   "file_extension": ".py",
   "mimetype": "text/x-python",
   "name": "python",
   "nbconvert_exporter": "python",
   "pygments_lexer": "ipython3",
   "version": "3.8.8"
  }
 },
 "nbformat": 4,
 "nbformat_minor": 4
}
