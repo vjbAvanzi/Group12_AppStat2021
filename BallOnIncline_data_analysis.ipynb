{
  "cells": [
    {
      "cell_type": "markdown",
      "metadata": {
        "id": "view-in-github",
        "colab_type": "text"
      },
      "source": [
        "<a href=\"https://colab.research.google.com/github/vjbAvanzi/Group12_AppStat2021/blob/main/BallOnIncline_data_analysis.ipynb\" target=\"_parent\"><img src=\"https://colab.research.google.com/assets/colab-badge.svg\" alt=\"Open In Colab\"/></a>"
      ]
    },
    {
      "cell_type": "markdown",
      "metadata": {
        "id": "94vJLKj3z052"
      },
      "source": [
        "# Analyze Ball on Incline data\n"
      ]
    },
    {
      "cell_type": "code",
      "execution_count": 1,
      "metadata": {
        "colab": {
          "base_uri": "https://localhost:8080/"
        },
        "id": "ZKEmOmh50QsS",
        "outputId": "c70c8949-3f5e-4d22-8a4b-f7a091d2b687"
      },
      "outputs": [
        {
          "output_type": "stream",
          "name": "stdout",
          "text": [
            "Collecting iminuit\n",
            "  Downloading iminuit-2.8.4-cp37-cp37m-manylinux_2_12_x86_64.manylinux2010_x86_64.whl (334 kB)\n",
            "\u001b[?25l\r\u001b[K     |█                               | 10 kB 6.0 MB/s eta 0:00:01\r\u001b[K     |██                              | 20 kB 9.2 MB/s eta 0:00:01\r\u001b[K     |███                             | 30 kB 12.1 MB/s eta 0:00:01\r\u001b[K     |████                            | 40 kB 14.3 MB/s eta 0:00:01\r\u001b[K     |█████                           | 51 kB 15.8 MB/s eta 0:00:01\r\u001b[K     |█████▉                          | 61 kB 17.2 MB/s eta 0:00:01\r\u001b[K     |██████▉                         | 71 kB 15.1 MB/s eta 0:00:01\r\u001b[K     |███████▉                        | 81 kB 16.3 MB/s eta 0:00:01\r\u001b[K     |████████▉                       | 92 kB 17.5 MB/s eta 0:00:01\r\u001b[K     |█████████▉                      | 102 kB 18.4 MB/s eta 0:00:01\r\u001b[K     |██████████▉                     | 112 kB 18.4 MB/s eta 0:00:01\r\u001b[K     |███████████▊                    | 122 kB 18.4 MB/s eta 0:00:01\r\u001b[K     |████████████▊                   | 133 kB 18.4 MB/s eta 0:00:01\r\u001b[K     |█████████████▊                  | 143 kB 18.4 MB/s eta 0:00:01\r\u001b[K     |██████████████▊                 | 153 kB 18.4 MB/s eta 0:00:01\r\u001b[K     |███████████████▊                | 163 kB 18.4 MB/s eta 0:00:01\r\u001b[K     |████████████████▊               | 174 kB 18.4 MB/s eta 0:00:01\r\u001b[K     |█████████████████▋              | 184 kB 18.4 MB/s eta 0:00:01\r\u001b[K     |██████████████████▋             | 194 kB 18.4 MB/s eta 0:00:01\r\u001b[K     |███████████████████▋            | 204 kB 18.4 MB/s eta 0:00:01\r\u001b[K     |████████████████████▋           | 215 kB 18.4 MB/s eta 0:00:01\r\u001b[K     |█████████████████████▋          | 225 kB 18.4 MB/s eta 0:00:01\r\u001b[K     |██████████████████████▌         | 235 kB 18.4 MB/s eta 0:00:01\r\u001b[K     |███████████████████████▌        | 245 kB 18.4 MB/s eta 0:00:01\r\u001b[K     |████████████████████████▌       | 256 kB 18.4 MB/s eta 0:00:01\r\u001b[K     |█████████████████████████▌      | 266 kB 18.4 MB/s eta 0:00:01\r\u001b[K     |██████████████████████████▌     | 276 kB 18.4 MB/s eta 0:00:01\r\u001b[K     |███████████████████████████▌    | 286 kB 18.4 MB/s eta 0:00:01\r\u001b[K     |████████████████████████████▍   | 296 kB 18.4 MB/s eta 0:00:01\r\u001b[K     |█████████████████████████████▍  | 307 kB 18.4 MB/s eta 0:00:01\r\u001b[K     |██████████████████████████████▍ | 317 kB 18.4 MB/s eta 0:00:01\r\u001b[K     |███████████████████████████████▍| 327 kB 18.4 MB/s eta 0:00:01\r\u001b[K     |████████████████████████████████| 334 kB 18.4 MB/s \n",
            "\u001b[?25hRequirement already satisfied: numpy in /usr/local/lib/python3.7/dist-packages (from iminuit) (1.19.5)\n",
            "Installing collected packages: iminuit\n",
            "Successfully installed iminuit-2.8.4\n"
          ]
        }
      ],
      "source": [
        "!pip install iminuit"
      ]
    },
    {
      "cell_type": "code",
      "execution_count": 2,
      "metadata": {
        "id": "HiUIkEeQz055"
      },
      "outputs": [],
      "source": [
        "# Imports\n",
        "import os, sys\n",
        "import numpy as np\n",
        "import matplotlib.pyplot as plt\n",
        "\n",
        "from iminuit import Minuit\n",
        "#sys.path.append('../../External_Functions')\n",
        "#from ExternalFunctions import Chi2Regression\n",
        "\n",
        "import pandas as pd\n",
        "\n",
        "from scipy.signal import find_peaks # Brilliant function for finding maxima in a data set\n",
        "from scipy import stats\n",
        "\n",
        "nan = float('nan')"
      ]
    },
    {
      "cell_type": "code",
      "execution_count": 3,
      "metadata": {
        "id": "vGF8wAAUZIrN"
      },
      "outputs": [],
      "source": [
        "# Import ExternalFunctions from the github repo.\n",
        "# Save ExternalFunctions as a local file\n",
        "# Import functions as usual\n",
        "# This ensures that the code will run in any directory on any system that we could possibly use (e.g. google colab)\n",
        "\n",
        "import requests\n",
        "\n",
        "url = 'https://raw.githubusercontent.com/AppliedStatisticsNBI/AppStat2021/main/External_Functions/ExternalFunctions.py'\n",
        "with open('{}.py'.format('ExternalFunctions'), 'w') as file:\n",
        "    file.write(requests.get(url).text)\n",
        "\n",
        "from ExternalFunctions import Chi2Regression"
      ]
    },
    {
      "cell_type": "markdown",
      "metadata": {
        "id": "ovbVNqc-z057"
      },
      "source": [
        "# The Data\n"
      ]
    },
    {
      "cell_type": "code",
      "execution_count": 4,
      "metadata": {
        "id": "6dhB9kpirxPe"
      },
      "outputs": [],
      "source": [
        "def calculate_weighted_mean(data, uncertainties):\n",
        "    return np.sum(data/uncertainties**2)/np.sum(1./uncertainties**2)\n",
        "\n",
        "def calculate_uncertainty(uncertainties):\n",
        "    return np.sqrt(1./np.sum(1./uncertainties**2))\n",
        "\n",
        "def calculate_df_mean_uncertainty_stdev(df, verbose=False):\n",
        "    mean = []\n",
        "    uncertainty = []\n",
        "    stdev = []\n",
        "\n",
        "    for index in range(1,df.shape[1],2):\n",
        "        mean.append(calculate_weighted_mean(df.iloc[:, index],df.iloc[:, index+1]))\n",
        "        uncertainty.append(calculate_uncertainty(df.iloc[:, index+1]))\n",
        "        stdev.append(np.std(df.iloc[:, index], ddof=1))\n",
        "        if verbose:\n",
        "            print(df.columns[index])\n",
        "            print(df.iloc[:, index].values)\n",
        "            print('Mean:',mean[int(index/2)])\n",
        "            print('Uncertainty:',uncertainty[int(index/2)])\n",
        "            print('Standard deviation:',stdev[int(index/2)])\n",
        "\n",
        "    return np.array(mean), np.array(uncertainty), np.array(stdev)"
      ]
    },
    {
      "cell_type": "markdown",
      "metadata": {
        "id": "dV3zPsKWmRTu"
      },
      "source": [
        "## The distances on the rail"
      ]
    },
    {
      "cell_type": "code",
      "execution_count": 5,
      "metadata": {
        "colab": {
          "base_uri": "https://localhost:8080/",
          "height": 801
        },
        "id": "ZANue5PCi-MQ",
        "outputId": "e26a98fb-78c7-46a0-b45b-ef7135f80122"
      },
      "outputs": [
        {
          "output_type": "display_data",
          "data": {
            "text/html": [
              "<div>\n",
              "<style scoped>\n",
              "    .dataframe tbody tr th:only-of-type {\n",
              "        vertical-align: middle;\n",
              "    }\n",
              "\n",
              "    .dataframe tbody tr th {\n",
              "        vertical-align: top;\n",
              "    }\n",
              "\n",
              "    .dataframe thead th {\n",
              "        text-align: right;\n",
              "    }\n",
              "</style>\n",
              "<table border=\"1\" class=\"dataframe\">\n",
              "  <thead>\n",
              "    <tr style=\"text-align: right;\">\n",
              "      <th></th>\n",
              "      <th>ExperimenterName</th>\n",
              "      <th>start(cm)</th>\n",
              "      <th>start_error(cm)</th>\n",
              "      <th>gate1(cm)</th>\n",
              "      <th>gate1_error(cm)</th>\n",
              "      <th>gate2(cm)</th>\n",
              "      <th>gate2_error(cm)</th>\n",
              "      <th>gate3(cm)</th>\n",
              "      <th>gate3_error(cm)</th>\n",
              "      <th>gate4(cm)</th>\n",
              "      <th>gate4_error(cm)</th>\n",
              "      <th>gate5(cm)</th>\n",
              "      <th>gate5_error(cm)</th>\n",
              "    </tr>\n",
              "  </thead>\n",
              "  <tbody>\n",
              "    <tr>\n",
              "      <th>0</th>\n",
              "      <td>P</td>\n",
              "      <td>98.40</td>\n",
              "      <td>0.10</td>\n",
              "      <td>98.30</td>\n",
              "      <td>0.10</td>\n",
              "      <td>75.40</td>\n",
              "      <td>0.10</td>\n",
              "      <td>53.30</td>\n",
              "      <td>0.10</td>\n",
              "      <td>30.90</td>\n",
              "      <td>0.10</td>\n",
              "      <td>14.20</td>\n",
              "      <td>0.10</td>\n",
              "    </tr>\n",
              "    <tr>\n",
              "      <th>1</th>\n",
              "      <td>A</td>\n",
              "      <td>98.50</td>\n",
              "      <td>0.05</td>\n",
              "      <td>93.35</td>\n",
              "      <td>0.05</td>\n",
              "      <td>75.45</td>\n",
              "      <td>0.05</td>\n",
              "      <td>53.30</td>\n",
              "      <td>0.05</td>\n",
              "      <td>30.95</td>\n",
              "      <td>0.05</td>\n",
              "      <td>14.15</td>\n",
              "      <td>0.05</td>\n",
              "    </tr>\n",
              "    <tr>\n",
              "      <th>2</th>\n",
              "      <td>S</td>\n",
              "      <td>98.44</td>\n",
              "      <td>0.05</td>\n",
              "      <td>93.32</td>\n",
              "      <td>0.05</td>\n",
              "      <td>75.45</td>\n",
              "      <td>0.05</td>\n",
              "      <td>53.25</td>\n",
              "      <td>0.05</td>\n",
              "      <td>30.90</td>\n",
              "      <td>0.05</td>\n",
              "      <td>14.70</td>\n",
              "      <td>0.05</td>\n",
              "    </tr>\n",
              "    <tr>\n",
              "      <th>3</th>\n",
              "      <td>N</td>\n",
              "      <td>98.40</td>\n",
              "      <td>0.05</td>\n",
              "      <td>93.30</td>\n",
              "      <td>0.10</td>\n",
              "      <td>75.40</td>\n",
              "      <td>0.10</td>\n",
              "      <td>53.30</td>\n",
              "      <td>0.10</td>\n",
              "      <td>30.90</td>\n",
              "      <td>0.10</td>\n",
              "      <td>14.10</td>\n",
              "      <td>0.10</td>\n",
              "    </tr>\n",
              "  </tbody>\n",
              "</table>\n",
              "</div>"
            ],
            "text/plain": [
              "  ExperimenterName  start(cm)  ...  gate5(cm)  gate5_error(cm)\n",
              "0                P      98.40  ...      14.20             0.10\n",
              "1                A      98.50  ...      14.15             0.05\n",
              "2                S      98.44  ...      14.70             0.05\n",
              "3                N      98.40  ...      14.10             0.10\n",
              "\n",
              "[4 rows x 13 columns]"
            ]
          },
          "metadata": {}
        },
        {
          "output_type": "stream",
          "name": "stdout",
          "text": [
            "start(cm)\n",
            "[0.984  0.985  0.9844 0.984 ]\n",
            "Mean: 0.9844307692307692\n",
            "Uncertainty: 0.00027735009811261454\n",
            "Standard deviation: 0.00047258156262520876\n",
            "gate1(cm)\n",
            "[0.983  0.9335 0.9332 0.933 ]\n",
            "Mean: 0.93828\n",
            "Uncertainty: 0.00031622776601683794\n",
            "Standard deviation: 0.024884181722532105\n",
            "gate2(cm)\n",
            "[0.754  0.7545 0.7545 0.754 ]\n",
            "Mean: 0.7544000000000001\n",
            "Uncertainty: 0.00031622776601683794\n",
            "Standard deviation: 0.0002886751345947811\n",
            "gate3(cm)\n",
            "[0.533  0.533  0.5325 0.533 ]\n",
            "Mean: 0.5328\n",
            "Uncertainty: 0.00031622776601683794\n",
            "Standard deviation: 0.000250000000000028\n",
            "gate4(cm)\n",
            "[0.309  0.3095 0.309  0.309 ]\n",
            "Mean: 0.3092\n",
            "Uncertainty: 0.00031622776601683794\n",
            "Standard deviation: 0.0002500000000000003\n",
            "gate5(cm)\n",
            "[0.142  0.1415 0.147  0.141 ]\n",
            "Mean: 0.1437\n",
            "Uncertainty: 0.00031622776601683794\n",
            "Standard deviation: 0.002780137886268711\n",
            "Mean: [0.98443077 0.93828    0.7544     0.5328     0.3092     0.1437    ]\n",
            "Uncertainty: [0.00027735 0.00031623 0.00031623 0.00031623 0.00031623 0.00031623]\n",
            "Standard deviation: [0.00047258 0.02488418 0.00028868 0.00025    0.00025    0.00278014]\n"
          ]
        }
      ],
      "source": [
        "rail_distances_columns = ['ExperimenterName', 'start(cm)', 'start_error(cm)', 'gate1(cm)', 'gate1_error(cm)', 'gate2(cm)', 'gate2_error(cm)', 'gate3(cm)', 'gate3_error(cm)', 'gate4(cm)', 'gate4_error(cm)', 'gate5(cm)', 'gate5_error(cm)']\n",
        "rail_distances = [  ['P', 98.4 , 0.1 , 98.3 , 0.1 , 75.4 , 0.1 , 53.3 , 0.1 , 30.9 , 0.1 , 14.2 , 0.1 ],\n",
        "                    ['A', 98.50, 0.05, 93.35, 0.05, 75.45, 0.05, 53.30, 0.05, 30.95, 0.05, 14.15, 0.05],\n",
        "                    ['S', 98.44, 0.05, 93.32, 0.05, 75.45, 0.05, 53.25, 0.05, 30.90, 0.05, 14.70, 0.05],\n",
        "                    ['N', 98.40, 0.05, 93.3 , 0.1 , 75.4 , 0.1 , 53.3 , 0.1 , 30.9 , 0.1 , 14.1 , 0.1 ] ]\n",
        "df_rail_distances = pd.DataFrame(data=rail_distances,columns=rail_distances_columns)\n",
        "display(df_rail_distances)\n",
        "# Convert untis to SI\n",
        "df_rail_distances.loc[:, df_rail_distances.columns != 'ExperimenterName'] *= 0.01 # Convert cm to m\n",
        "\n",
        "rail_distances_mean, rail_distances_uncertainty, rail_distances_stdev = calculate_df_mean_uncertainty_stdev(df_rail_distances, verbose=True)\n",
        "print('Mean:',rail_distances_mean)\n",
        "print('Uncertainty:',rail_distances_uncertainty)\n",
        "print('Standard deviation:',rail_distances_stdev)"
      ]
    },
    {
      "cell_type": "markdown",
      "metadata": {
        "id": "3DjoFDwymHGf"
      },
      "source": [
        "## The angle measurements for height 1\n",
        "All measurements with goniometer should have 90 degrees substracted\n",
        "<br>Variable names explained: S = setup, G = gionometer, N = normal position, F = flipped position"
      ]
    },
    {
      "cell_type": "code",
      "execution_count": 6,
      "metadata": {
        "colab": {
          "base_uri": "https://localhost:8080/",
          "height": 230
        },
        "id": "dzgoQpj6odqi",
        "outputId": "d65bab19-94a6-481c-f43e-01125d8dcf92"
      },
      "outputs": [
        {
          "output_type": "display_data",
          "data": {
            "text/html": [
              "<div>\n",
              "<style scoped>\n",
              "    .dataframe tbody tr th:only-of-type {\n",
              "        vertical-align: middle;\n",
              "    }\n",
              "\n",
              "    .dataframe tbody tr th {\n",
              "        vertical-align: top;\n",
              "    }\n",
              "\n",
              "    .dataframe thead th {\n",
              "        text-align: right;\n",
              "    }\n",
              "</style>\n",
              "<table border=\"1\" class=\"dataframe\">\n",
              "  <thead>\n",
              "    <tr style=\"text-align: right;\">\n",
              "      <th></th>\n",
              "      <th>ExperimenterName</th>\n",
              "      <th>SNGN</th>\n",
              "      <th>SNGN_error</th>\n",
              "      <th>SNGF</th>\n",
              "      <th>SNGF_error</th>\n",
              "      <th>SFGN</th>\n",
              "      <th>SFGN_error</th>\n",
              "      <th>SFGF</th>\n",
              "      <th>SFGF_error</th>\n",
              "    </tr>\n",
              "  </thead>\n",
              "  <tbody>\n",
              "    <tr>\n",
              "      <th>0</th>\n",
              "      <td>P</td>\n",
              "      <td>0.270526</td>\n",
              "      <td>0.003491</td>\n",
              "      <td>0.277507</td>\n",
              "      <td>0.003491</td>\n",
              "      <td>0.260054</td>\n",
              "      <td>0.001745</td>\n",
              "      <td>0.270526</td>\n",
              "      <td>0.001745</td>\n",
              "    </tr>\n",
              "    <tr>\n",
              "      <th>1</th>\n",
              "      <td>A</td>\n",
              "      <td>0.270526</td>\n",
              "      <td>0.003491</td>\n",
              "      <td>0.263545</td>\n",
              "      <td>0.004363</td>\n",
              "      <td>0.260054</td>\n",
              "      <td>0.004363</td>\n",
              "      <td>0.261799</td>\n",
              "      <td>0.004363</td>\n",
              "    </tr>\n",
              "    <tr>\n",
              "      <th>2</th>\n",
              "      <td>S</td>\n",
              "      <td>0.272271</td>\n",
              "      <td>0.001745</td>\n",
              "      <td>0.277507</td>\n",
              "      <td>0.001745</td>\n",
              "      <td>0.258309</td>\n",
              "      <td>0.001745</td>\n",
              "      <td>0.262672</td>\n",
              "      <td>0.000873</td>\n",
              "    </tr>\n",
              "    <tr>\n",
              "      <th>3</th>\n",
              "      <td>N</td>\n",
              "      <td>0.268781</td>\n",
              "      <td>0.003491</td>\n",
              "      <td>0.275762</td>\n",
              "      <td>0.003491</td>\n",
              "      <td>0.256563</td>\n",
              "      <td>0.003491</td>\n",
              "      <td>0.263545</td>\n",
              "      <td>0.001745</td>\n",
              "    </tr>\n",
              "  </tbody>\n",
              "</table>\n",
              "</div>"
            ],
            "text/plain": [
              "  ExperimenterName      SNGN  SNGN_error  ...  SFGN_error      SFGF  SFGF_error\n",
              "0                P  0.270526    0.003491  ...    0.001745  0.270526    0.001745\n",
              "1                A  0.270526    0.003491  ...    0.004363  0.261799    0.004363\n",
              "2                S  0.272271    0.001745  ...    0.001745  0.262672    0.000873\n",
              "3                N  0.268781    0.003491  ...    0.003491  0.263545    0.001745\n",
              "\n",
              "[4 rows x 9 columns]"
            ]
          },
          "metadata": {}
        },
        {
          "output_type": "stream",
          "name": "stdout",
          "text": [
            "Mean: [0.27127403 0.2758987  0.25896775 0.26406605]\n",
            "Uncertainty: [0.00131934 0.00135464 0.00112427 0.00070321]\n",
            "Standard deviation: [0.00142506 0.00674083 0.00167103 0.00399111]\n"
          ]
        }
      ],
      "source": [
        "gonio_angles_1_columns = ['ExperimenterName', 'SNGN', 'SNGN_error', 'SNGF', 'SNGF_error', 'SFGN', 'SFGN_error', 'SFGF', 'SFGF_error']\n",
        "gonio_angles_1 = [  ['P', 105.5, 0.2, 105.9 , 0.2 , 104.9 , 0.1 , 105.5 , 0.1 ],\n",
        "                    ['A', 105.5, 0.2, 105.10, 0.25, 104.90, 0.25, 105.00, 0.25],\n",
        "                    ['S', 105.6, 0.1, 105.9 , 0.1 , 104.8 , 0.1 , 105.05, 0.05],\n",
        "                    ['N', 105.4, 0.2, 105.8 , 0.2 , 104.7 , 0.2 , 105.1 , 0.1 ] ]\n",
        "df_gonio_angles_1 = pd.DataFrame(data=gonio_angles_1,columns=gonio_angles_1_columns)\n",
        "df_gonio_angles_1.loc[:, ['SNGN','SNGF','SFGN','SFGF']] -= 90 # Substract the 90 degrees\n",
        "df_gonio_angles_1.loc[:, df_gonio_angles_1.columns != 'ExperimenterName'] *= 2*np.pi/360 # Convert to radians\n",
        "display(df_gonio_angles_1)\n",
        "\n",
        "\n",
        "gonio_angles_1_mean, gonio_angles_1_uncertainty, gonio_angles_1_stdev = calculate_df_mean_uncertainty_stdev(df_gonio_angles_1)\n",
        "print('Mean:',gonio_angles_1_mean)\n",
        "print('Uncertainty:',gonio_angles_1_uncertainty)\n",
        "print('Standard deviation:',gonio_angles_1_stdev)"
      ]
    },
    {
      "cell_type": "code",
      "execution_count": 7,
      "metadata": {
        "colab": {
          "base_uri": "https://localhost:8080/",
          "height": 199
        },
        "id": "ojgFJF_hmGuN",
        "outputId": "30e9140e-d3bf-4ed4-b5c5-732fedf57b06"
      },
      "outputs": [
        {
          "output_type": "display_data",
          "data": {
            "text/html": [
              "<div>\n",
              "<style scoped>\n",
              "    .dataframe tbody tr th:only-of-type {\n",
              "        vertical-align: middle;\n",
              "    }\n",
              "\n",
              "    .dataframe tbody tr th {\n",
              "        vertical-align: top;\n",
              "    }\n",
              "\n",
              "    .dataframe thead th {\n",
              "        text-align: right;\n",
              "    }\n",
              "</style>\n",
              "<table border=\"1\" class=\"dataframe\">\n",
              "  <thead>\n",
              "    <tr style=\"text-align: right;\">\n",
              "      <th></th>\n",
              "      <th>ExperimenterName</th>\n",
              "      <th>h_a(mm)</th>\n",
              "      <th>h_a_error(mm)</th>\n",
              "      <th>h_b(mm)</th>\n",
              "      <th>h_b_error(mm)</th>\n",
              "      <th>l(mm)</th>\n",
              "      <th>l_error(mm)</th>\n",
              "    </tr>\n",
              "  </thead>\n",
              "  <tbody>\n",
              "    <tr>\n",
              "      <th>0</th>\n",
              "      <td>P</td>\n",
              "      <td>278.5</td>\n",
              "      <td>0.5</td>\n",
              "      <td>31.0</td>\n",
              "      <td>1.0</td>\n",
              "      <td>926.0</td>\n",
              "      <td>1.0</td>\n",
              "    </tr>\n",
              "    <tr>\n",
              "      <th>1</th>\n",
              "      <td>A</td>\n",
              "      <td>278.0</td>\n",
              "      <td>0.1</td>\n",
              "      <td>NaN</td>\n",
              "      <td>NaN</td>\n",
              "      <td>927.0</td>\n",
              "      <td>0.5</td>\n",
              "    </tr>\n",
              "    <tr>\n",
              "      <th>2</th>\n",
              "      <td>N</td>\n",
              "      <td>278.5</td>\n",
              "      <td>0.5</td>\n",
              "      <td>31.0</td>\n",
              "      <td>1.0</td>\n",
              "      <td>926.0</td>\n",
              "      <td>1.0</td>\n",
              "    </tr>\n",
              "  </tbody>\n",
              "</table>\n",
              "</div>"
            ],
            "text/plain": [
              "  ExperimenterName  h_a(mm)  h_a_error(mm)  ...  h_b_error(mm)  l(mm)  l_error(mm)\n",
              "0                P    278.5            0.5  ...            1.0  926.0          1.0\n",
              "1                A    278.0            0.1  ...            NaN  927.0          0.5\n",
              "2                N    278.5            0.5  ...            1.0  926.0          1.0\n",
              "\n",
              "[3 rows x 7 columns]"
            ]
          },
          "metadata": {}
        },
        {
          "output_type": "stream",
          "name": "stdout",
          "text": [
            "Mean: [0.27803704 0.031      0.92666667]\n",
            "Uncertainty: [9.62250449e-05 7.07106781e-04 4.08248290e-04]\n",
            "Standard deviation: [0.00028868 0.         0.00057735]\n"
          ]
        }
      ],
      "source": [
        "nan = float('nan')\n",
        "triangle_distances_1_columns = ['ExperimenterName', 'h_a(mm)', 'h_a_error(mm)', 'h_b(mm)', 'h_b_error(mm)', 'l(mm)', 'l_error(mm)']\n",
        "triangle_distances_1 = [['P', 278.5, 0.5, 31 , 1  , 926  , 1  ],\n",
        "                        ['A', 278.0, 0.1, nan, nan, 927.0, 0.5],\n",
        "                        ['N', 278.5, 0.5, 31 , 1  , 926  , 1  ] ]\n",
        "df_triangle_distances_1 = pd.DataFrame(data=triangle_distances_1,columns=triangle_distances_1_columns)\n",
        "display(df_triangle_distances_1)\n",
        "df_triangle_distances_1.loc[:, df_triangle_distances_1.columns != 'ExperimenterName'] *= 0.001 # Convert mm to m\n",
        "\n",
        "triangle_distances_1_mean, triangle_distances_1_uncertainty, triangle_distances_1_stdev = calculate_df_mean_uncertainty_stdev(df_triangle_distances_1)\n",
        "print('Mean:',triangle_distances_1_mean)\n",
        "print('Uncertainty:',triangle_distances_1_uncertainty)\n",
        "print('Standard deviation:',triangle_distances_1_stdev)"
      ]
    },
    {
      "cell_type": "markdown",
      "metadata": {
        "id": "97aBixE4ozJ7"
      },
      "source": [
        "## The angle measurements for height 2"
      ]
    },
    {
      "cell_type": "code",
      "execution_count": 8,
      "metadata": {
        "colab": {
          "base_uri": "https://localhost:8080/",
          "height": 99
        },
        "id": "59wYgyskmGbu",
        "outputId": "9f28f68a-68e2-478f-952d-babc832ef7dc"
      },
      "outputs": [
        {
          "output_type": "display_data",
          "data": {
            "text/html": [
              "<div>\n",
              "<style scoped>\n",
              "    .dataframe tbody tr th:only-of-type {\n",
              "        vertical-align: middle;\n",
              "    }\n",
              "\n",
              "    .dataframe tbody tr th {\n",
              "        vertical-align: top;\n",
              "    }\n",
              "\n",
              "    .dataframe thead th {\n",
              "        text-align: right;\n",
              "    }\n",
              "</style>\n",
              "<table border=\"1\" class=\"dataframe\">\n",
              "  <thead>\n",
              "    <tr style=\"text-align: right;\">\n",
              "      <th></th>\n",
              "      <th>ExperimenterName</th>\n",
              "      <th>SNGN</th>\n",
              "      <th>SNGN_error</th>\n",
              "      <th>SNGF</th>\n",
              "      <th>SNGF_error</th>\n",
              "      <th>SFGN</th>\n",
              "      <th>SFGF</th>\n",
              "    </tr>\n",
              "  </thead>\n",
              "  <tbody>\n",
              "    <tr>\n",
              "      <th>0</th>\n",
              "      <td>P</td>\n",
              "      <td>0.097738</td>\n",
              "      <td>0.001745</td>\n",
              "      <td>0.090757</td>\n",
              "      <td>0.001745</td>\n",
              "      <td>0.087266</td>\n",
              "      <td>0.10472</td>\n",
              "    </tr>\n",
              "  </tbody>\n",
              "</table>\n",
              "</div>"
            ],
            "text/plain": [
              "  ExperimenterName      SNGN  SNGN_error  ...  SNGF_error      SFGN     SFGF\n",
              "0                P  0.097738    0.001745  ...    0.001745  0.087266  0.10472\n",
              "\n",
              "[1 rows x 7 columns]"
            ]
          },
          "metadata": {}
        },
        {
          "output_type": "stream",
          "name": "stdout",
          "text": [
            "One measurement -> no uncertainty or standard deviation calculations possible.\n"
          ]
        }
      ],
      "source": [
        "# Note the lack of errors on the measurements of the flipped setup\n",
        "gonio_angles_2_columns = ['ExperimenterName', 'SNGN', 'SNGN_error', 'SNGF', 'SNGF_error', 'SFGN', 'SFGF']\n",
        "gonio_angles_2 = [['P', 95.6, 0.1, 95.2, 0.1, 95, 96]]\n",
        "df_gonio_angles_2 = pd.DataFrame(data=gonio_angles_2,columns=gonio_angles_2_columns)\n",
        "df_gonio_angles_2.loc[:, ['SNGN','SNGF','SFGN','SFGF']] -= 90 # Substract the 90 degrees\n",
        "df_gonio_angles_2.loc[:, df_gonio_angles_2.columns != 'ExperimenterName'] *= 2*np.pi/360 # Convert to radians\n",
        "display(df_gonio_angles_2)\n",
        "\n",
        "print('One measurement -> no uncertainty or standard deviation calculations possible.')"
      ]
    },
    {
      "cell_type": "code",
      "execution_count": 9,
      "metadata": {
        "colab": {
          "base_uri": "https://localhost:8080/",
          "height": 99
        },
        "id": "EEJTg3SNpiMI",
        "outputId": "fde67885-2ecb-4b47-f24a-bb9be92f66f3"
      },
      "outputs": [
        {
          "output_type": "display_data",
          "data": {
            "text/html": [
              "<div>\n",
              "<style scoped>\n",
              "    .dataframe tbody tr th:only-of-type {\n",
              "        vertical-align: middle;\n",
              "    }\n",
              "\n",
              "    .dataframe tbody tr th {\n",
              "        vertical-align: top;\n",
              "    }\n",
              "\n",
              "    .dataframe thead th {\n",
              "        text-align: right;\n",
              "    }\n",
              "</style>\n",
              "<table border=\"1\" class=\"dataframe\">\n",
              "  <thead>\n",
              "    <tr style=\"text-align: right;\">\n",
              "      <th></th>\n",
              "      <th>ExperimenterName</th>\n",
              "      <th>h_a(mm)</th>\n",
              "      <th>h_a_error(mm)</th>\n",
              "      <th>h_b(mm)</th>\n",
              "      <th>h_b_error(mm)</th>\n",
              "    </tr>\n",
              "  </thead>\n",
              "  <tbody>\n",
              "    <tr>\n",
              "      <th>0</th>\n",
              "      <td>?</td>\n",
              "      <td>11.2</td>\n",
              "      <td>0.02</td>\n",
              "      <td>3.14</td>\n",
              "      <td>0.02</td>\n",
              "    </tr>\n",
              "  </tbody>\n",
              "</table>\n",
              "</div>"
            ],
            "text/plain": [
              "  ExperimenterName  h_a(mm)  h_a_error(mm)  h_b(mm)  h_b_error(mm)\n",
              "0                ?     11.2           0.02     3.14           0.02"
            ]
          },
          "metadata": {}
        },
        {
          "output_type": "stream",
          "name": "stdout",
          "text": [
            "One measurement -> no uncertainty or standard deviation calculations possible.\n"
          ]
        }
      ],
      "source": [
        "# Use l from height 1\n",
        "triangle_distances_2_columns = ['ExperimenterName', 'h_a(mm)', 'h_a_error(mm)', 'h_b(mm)', 'h_b_error(mm)']\n",
        "triangle_distances_2 = [['?', 11.20, 0.02, 3.14, 0.02]]\n",
        "df_triangle_distances_2 = pd.DataFrame(data=triangle_distances_2,columns=triangle_distances_2_columns)\n",
        "display(df_triangle_distances_2)\n",
        "df_triangle_distances_2.loc[:, df_triangle_distances_2.columns != 'ExperimenterName'] *= 0.001 # Convert mm to m\n",
        "\n",
        "print('One measurement -> no uncertainty or standard deviation calculations possible.')"
      ]
    },
    {
      "cell_type": "markdown",
      "metadata": {
        "id": "NyhewnyEqpVa"
      },
      "source": [
        "## Remaining measured parameters"
      ]
    },
    {
      "cell_type": "code",
      "execution_count": 10,
      "metadata": {
        "colab": {
          "base_uri": "https://localhost:8080/",
          "height": 199
        },
        "id": "ZzFClsbXpnF0",
        "outputId": "81ffe9ec-6ec3-433b-a564-566ed154cb08"
      },
      "outputs": [
        {
          "output_type": "display_data",
          "data": {
            "text/html": [
              "<div>\n",
              "<style scoped>\n",
              "    .dataframe tbody tr th:only-of-type {\n",
              "        vertical-align: middle;\n",
              "    }\n",
              "\n",
              "    .dataframe tbody tr th {\n",
              "        vertical-align: top;\n",
              "    }\n",
              "\n",
              "    .dataframe thead th {\n",
              "        text-align: right;\n",
              "    }\n",
              "</style>\n",
              "<table border=\"1\" class=\"dataframe\">\n",
              "  <thead>\n",
              "    <tr style=\"text-align: right;\">\n",
              "      <th></th>\n",
              "      <th>ExperimenterName</th>\n",
              "      <th>D_ball(mm)</th>\n",
              "      <th>D_ball_error(mm)</th>\n",
              "      <th>D_rail(mm)</th>\n",
              "      <th>D_rail_error(mm)</th>\n",
              "      <th>width_rail(mm)</th>\n",
              "      <th>width_rail_error(mm)</th>\n",
              "    </tr>\n",
              "  </thead>\n",
              "  <tbody>\n",
              "    <tr>\n",
              "      <th>0</th>\n",
              "      <td>P</td>\n",
              "      <td>1.27</td>\n",
              "      <td>0.01</td>\n",
              "      <td>0.62</td>\n",
              "      <td>0.02</td>\n",
              "      <td>0.72</td>\n",
              "      <td>0.02</td>\n",
              "    </tr>\n",
              "    <tr>\n",
              "      <th>1</th>\n",
              "      <td>A</td>\n",
              "      <td>NaN</td>\n",
              "      <td>NaN</td>\n",
              "      <td>0.61</td>\n",
              "      <td>0.02</td>\n",
              "      <td>0.71</td>\n",
              "      <td>0.02</td>\n",
              "    </tr>\n",
              "    <tr>\n",
              "      <th>2</th>\n",
              "      <td>N</td>\n",
              "      <td>1.27</td>\n",
              "      <td>0.01</td>\n",
              "      <td>NaN</td>\n",
              "      <td>NaN</td>\n",
              "      <td>NaN</td>\n",
              "      <td>NaN</td>\n",
              "    </tr>\n",
              "  </tbody>\n",
              "</table>\n",
              "</div>"
            ],
            "text/plain": [
              "  ExperimenterName  D_ball(mm)  ...  width_rail(mm)  width_rail_error(mm)\n",
              "0                P        1.27  ...            0.72                  0.02\n",
              "1                A         NaN  ...            0.71                  0.02\n",
              "2                N        1.27  ...             NaN                   NaN\n",
              "\n",
              "[3 rows x 7 columns]"
            ]
          },
          "metadata": {}
        },
        {
          "output_type": "stream",
          "name": "stdout",
          "text": [
            "Mean: [0.00127  0.000615 0.000715]\n",
            "Uncertainty: [7.07106781e-06 1.41421356e-05 1.41421356e-05]\n",
            "Standard deviation: [0.00000000e+00 7.07106781e-06 7.07106781e-06]\n"
          ]
        }
      ],
      "source": [
        "nan = float('nan')\n",
        "remaining_parameters_columns = ['ExperimenterName', 'D_ball(mm)', 'D_ball_error(mm)', 'D_rail(mm)', 'D_rail_error(mm)', 'width_rail(mm)', 'width_rail_error(mm)']\n",
        "remaining_parameters = [['P', 1.27, 0.01, 0.62, 0.02, 0.72, 0.02],\n",
        "                        ['A', nan , nan , 0.61, 0.02, 0.71, 0.02],\n",
        "                        ['N', 1.27, 0.01, nan , nan , nan , nan ] ]\n",
        "df_remaining_parameters = pd.DataFrame(data=remaining_parameters,columns=remaining_parameters_columns)\n",
        "display(df_remaining_parameters)\n",
        "df_remaining_parameters.loc[:, df_remaining_parameters.columns != 'ExperimenterName'] *= 0.001 # Convert mm to m\n",
        "\n",
        "remaining_parameters_mean, remaining_parameters_uncertainty, remaining_parameters_stdev = calculate_df_mean_uncertainty_stdev(df_remaining_parameters)\n",
        "print('Mean:',remaining_parameters_mean)\n",
        "print('Uncertainty:',remaining_parameters_uncertainty)\n",
        "print('Standard deviation:',remaining_parameters_stdev)"
      ]
    },
    {
      "cell_type": "markdown",
      "metadata": {
        "id": "eHlATdrhR_t5"
      },
      "source": [
        "# Calculate average angle and $\\Delta \\theta$\n",
        "- First deal with the error of the goniometer: flipping the goniometer for one version of the setup should give the exact opposite error compared to the normal measurement\n",
        "- -> take the average of the two to find the real angle\n",
        "- Then use the averages to find the delta theta between the normal setup and flipped setup"
      ]
    },
    {
      "cell_type": "code",
      "execution_count": 11,
      "metadata": {
        "colab": {
          "base_uri": "https://localhost:8080/"
        },
        "id": "asZeY82XvDlf",
        "outputId": "2fea1122-ba1e-405e-a86f-62327e0f6939"
      },
      "outputs": [
        {
          "output_type": "stream",
          "name": "stdout",
          "text": [
            "['SNGN', 'SNGF', 'SFGN', 'SFGF']\n",
            "[0.27127403 0.2758987  0.25896775 0.26406605]\n",
            "[0.00131934 0.00135464 0.00112427 0.00070321]\n"
          ]
        }
      ],
      "source": [
        "print(gonio_angles_1_columns[1:-1:2])\n",
        "print(gonio_angles_1_mean)\n",
        "print(gonio_angles_1_uncertainty)\n",
        "\n",
        "gonio_SN_mean_1 = (gonio_angles_1_mean[0]+gonio_angles_1_mean[1])/2\n",
        "gonio_SF_mean_1 = (gonio_angles_1_mean[2]+gonio_angles_1_mean[3])/2\n",
        "gonio_SN_uncertainty_1 = np.sqrt(gonio_angles_1_uncertainty[0]**2 + gonio_angles_1_uncertainty[1]**2)/np.sqrt(2)\n",
        "gonio_SF_uncertainty_1 = np.sqrt(gonio_angles_1_uncertainty[0]**2 + gonio_angles_1_uncertainty[1]**2)/np.sqrt(2)\n",
        "\n",
        "gonio_dtheta_1 = (gonio_SN_mean_1-gonio_SF_mean_1)/2\n",
        "gonio_edtheta_1 = np.sqrt(gonio_SN_uncertainty_1**2+gonio_SF_uncertainty_1**2)/np.sqrt(2)\n",
        "\n",
        "\n",
        "gonio_SN_mean_2 = (df_gonio_angles_2.loc[0,'SNGN']+df_gonio_angles_2.loc[0,'SNGF'])/2\n",
        "gonio_SF_mean_2 = (df_gonio_angles_2.loc[0,'SFGN']+df_gonio_angles_2.loc[0,'SFGF'])/2\n",
        "gonio_SN_uncertainty_2 = np.sqrt(df_gonio_angles_2.loc[0,'SNGN_error']**2 + df_gonio_angles_2.loc[0,'SNGF_error']**2)/np.sqrt(2)\n",
        "gonio_SF_uncertainty_2 = gonio_SN_uncertainty_2 # No errors given in the table, assume the same errors as for the other measurements\n",
        "\n",
        "gonio_dtheta_2 = (gonio_SN_mean_2-gonio_SF_mean_2)/2\n",
        "gonio_edtheta_2 = np.sqrt(gonio_SN_uncertainty_2**2+gonio_SF_uncertainty_1**2)/np.sqrt(2)\n",
        "\n",
        "\n",
        "#def calculate_delta_theta(theta1, theta2, uncertainty1, uncertainty2):\n",
        "#    return abs(theta1-theta2)/2, np.sqrt(uncertainty1**2 + uncertainty2**2)/np.sqrt(2)\n",
        "\n",
        "#dthetaN, edthetaN = calculate_delta_theta(gonio_angles_1_mean[0],gonio_angles_1_mean[1], gonio_angles_1_uncertainty[0],gonio_angles_1_uncertainty[1])\n",
        "#dthetaF, edthetaF = calculate_delta_theta(gonio_angles_1_mean[2],gonio_angles_1_mean[3], gonio_angles_1_uncertainty[2],gonio_angles_1_uncertainty[3])\n",
        "#print(f'Delta theta 1 Normal = {dthetaN} +- {edthetaN} radians')\n",
        "#print(f'Delta theta 1 Flipped = {dthetaF} +- {edthetaF} radians')\n",
        "# Combined errors\n",
        "#dthetaC = (dthetaN+dthetaF)/2\n",
        "#edthetaC = np.sqrt(edthetaN**2+edthetaF**2)/np.sqrt(2)\n",
        "#print(f'Delta theta 1 Combined = {dthetaC} +- {edthetaC} radians')"
      ]
    },
    {
      "cell_type": "markdown",
      "metadata": {
        "id": "5YxO3kweu_wa"
      },
      "source": [
        "# Extracting and processing timing data"
      ]
    },
    {
      "cell_type": "code",
      "execution_count": 12,
      "metadata": {
        "id": "HhcX1VW8z057"
      },
      "outputs": [],
      "source": [
        "def read_csv(filename):\n",
        "    \"\"\"Read CSV from Waveforms\n",
        "    This function takes in a filename and returns numpy arrays with time and voltage.\"\"\"\n",
        "    dat = np.genfromtxt(filename, delimiter=',', skip_header=13+6, names=True) # For our specific csv files we need to skip more header lines\n",
        "    time = dat['Time_s']\n",
        "    voltage = dat['Channel_1_V']\n",
        "    return time, voltage\n",
        "\n",
        "# lin_interp() and half_max_x() adapted from https://stackoverflow.com/questions/49100778/fwhm-calculation-using-python\n",
        "def lin_interp(x, y, i, half):\n",
        "    return x[i] + (x[i+1] - x[i]) * ((half - y[i]) / (y[i+1] - y[i]))\n",
        "\n",
        "def half_max_x(x, y):\n",
        "    \n",
        "    half = max(y)/2.0\n",
        "    signs = np.sign(np.add(y, -half))\n",
        "    zero_crossings = (signs[0:-2] != signs[1:-1])\n",
        "    zero_crossings_i = np.where(zero_crossings)[0]\n",
        "    return [lin_interp(x, y, zero_crossings_i[0], half),\n",
        "            lin_interp(x, y, zero_crossings_i[1], half)]\n",
        "\n",
        "def isolate_peaks(time, voltage, maxima_indices, width=0.05):\n",
        "    \"\"\"This function isolates the data points around a maximum and returns\n",
        "    the time and voltage arrays for each peak in a list.\n",
        "    The width parameter determines how many data points left and right of\n",
        "    a maximum are take to be part of a peak.\"\"\"\n",
        "    peaks_x = []\n",
        "    peaks_y = []\n",
        "    for mx in maxima_indices:\n",
        "        peak_slice = np.where( (time>time[mx]-width) & (time<time[mx]+width) ) # Slice around the maximum +-'width' seconds\n",
        "        peaks_x.append(time[peak_slice])\n",
        "        peaks_y.append(voltage[peak_slice])\n",
        "    \n",
        "    return peaks_x, peaks_y\n",
        "\n",
        "def find_midpoints(time, voltage, width=0.05, show_plot=True):\n",
        "    \"\"\"Find midpoints -- quick and dirty\"\"\"\n",
        "    \n",
        "    # Write a function yourself, which identifies the peaks in the voltage,\n",
        "    # and returns values for passing times and (possibly) their uncertainties in it.\n",
        "    #t_pass = [0.0, 0.1]\n",
        "    #t_pass_sigma = [0.0001, 0.00001]\n",
        "    \n",
        "    maxima_indices, _ = find_peaks(voltage,height=1.0) # Find the indices of the maxima/peaks\n",
        "    #print(maxima_indices)\n",
        "    \n",
        "    # Isolate the peaks\n",
        "    peaks_x, peaks_y = isolate_peaks(time, voltage, maxima_indices, width=width)\n",
        "    # Confirm visually that all peaks have been selected correctly and that their non-zero parts do not overlap\n",
        "    \n",
        "    # Find the x positions corresponding to the half maximum\n",
        "    hmts = [] # Half maximum time positionS\n",
        "    centers = [] # Time of center of peaks\n",
        "    widths = [] # Widths of the half maximum (not to be confused with the previously used width for selecting a peak)\n",
        "    for i in range(len(maxima_indices)):\n",
        "        hmt = half_max_x(peaks_x[i],peaks_y[i])\n",
        "        center = (hmt[0] + hmt[1])/2\n",
        "        width = hmt[1] - hmt[0]\n",
        "        # Save the extracted parameters\n",
        "        hmts.append(hmt)\n",
        "        centers.append(center)\n",
        "        widths.append(width)\n",
        "    \n",
        "    if show_plot:\n",
        "        our_color_list = ['red','cyan','green','magenta','indigo'] # List of selected colors for ease of plotting\n",
        "        \n",
        "        fig, ax = plt.subplots(figsize=(14, 6))\n",
        "        ax.plot(time, voltage, label='Measurements')\n",
        "        ax.plot(time[maxima_indices], voltage[maxima_indices], marker='x', color='red', linestyle='none', ms=15, label='Maxima')\n",
        "        for i in range(len(maxima_indices)):\n",
        "            ax.plot(peaks_x[i], peaks_y[i], label=f'Peak {i+1}', color=our_color_list[i])\n",
        "            ax.plot([centers[i],centers[i]],[0,voltage[maxima_indices[i]]+0.5],color=our_color_list[i]) # Plot a vertical line through the center of the peak\n",
        "            half = voltage[maxima_indices[i]]/2.0\n",
        "            ax.plot(hmts[i],[half,half],color=our_color_list[i]) # Plot the width of the peak\n",
        "        \n",
        "        # Use the xlim to inspect individual peaks\n",
        "        # Below I have set up parameters for each peak of the first experiment\n",
        "        # Note the increasingly narrow ranges\n",
        "        #ax.set_xlim(-0.1,0.1) \n",
        "        #ax.set_xlim(0.25,0.35)\n",
        "        #ax.set_xlim(0.50,0.55)\n",
        "        #ax.set_xlim(0.65,0.70)\n",
        "        #ax.set_xlim(0.78,0.80)\n",
        "\n",
        "        ax.set_title(\"Data from Ball-on-Incline experiment\")\n",
        "        ax.set_xlabel(\"Time (s)\")\n",
        "        ax.set_ylabel(\"Voltage (V)\")\n",
        "        ax.legend(loc='best')\n",
        "    \n",
        "    # For now we can use the center as the passing time and the width of the peak as the uncertainty.\n",
        "    # Perhaps we can come up with a better method later\n",
        "    t_pass = np.array(centers)\n",
        "    t_pass_sigma = np.array(widths)/2.0\n",
        "    \n",
        "    return t_pass, t_pass_sigma"
      ]
    },
    {
      "cell_type": "code",
      "execution_count": 13,
      "metadata": {
        "colab": {
          "base_uri": "https://localhost:8080/",
          "height": 441
        },
        "id": "FwjtTWOHz058",
        "outputId": "d7595b1e-22cf-426b-fd74-fe24989ca5d7"
      },
      "outputs": [
        {
          "output_type": "stream",
          "name": "stdout",
          "text": [
            "Passing times in seconds: [0.01271457 0.29772201 0.51363411 0.68096097 0.78983244]\n",
            "Uncertainty on passing times: [0.01229155 0.00541882 0.00378095 0.0031676  0.00281644]\n"
          ]
        },
        {
          "output_type": "display_data",
          "data": {
            "image/png": "[encoded data removed]",
            "text/plain": [
              "<Figure size 1008x432 with 1 Axes>"
            ]
          },
          "metadata": {
            "needs_background": "light"
          }
        }
      ],
      "source": [
        "# Read the data and plot it (possibly with passing times in):\n",
        "filename = 'https://raw.githubusercontent.com/vjbAvanzi/Group12_AppStat2021/main/Incline/Incline_Normal_height1_Run1.csv'\n",
        "\n",
        "time, voltage = read_csv(filename)\n",
        "timepass, timepass_sig = find_midpoints(time, voltage)\n",
        "\n",
        "print('Passing times in seconds:',timepass)\n",
        "print('Uncertainty on passing times:',timepass_sig)"
      ]
    },
    {
      "cell_type": "markdown",
      "metadata": {
        "id": "xPUOfNtsMCXc"
      },
      "source": [
        "A quick repeat of the cell above, but with a different data set for quick comparisons"
      ]
    },
    {
      "cell_type": "code",
      "execution_count": 14,
      "metadata": {
        "colab": {
          "base_uri": "https://localhost:8080/",
          "height": 441
        },
        "id": "ngf33aVpMBEm",
        "outputId": "43feb438-dc72-4120-879f-b676bd2e74a2"
      },
      "outputs": [
        {
          "output_type": "stream",
          "name": "stdout",
          "text": [
            "Passing times in seconds: [0.01289845 0.2989662  0.51523661 0.68257141 0.79162088]\n",
            "Uncertainty on passing times: [0.01247241 0.00543522 0.00380054 0.00317683 0.00282391]\n"
          ]
        },
        {
          "output_type": "display_data",
          "data": {
            "image/png": "[encoded data removed]",
            "text/plain": [
              "<Figure size 1008x432 with 1 Axes>"
            ]
          },
          "metadata": {
            "needs_background": "light"
          }
        }
      ],
      "source": [
        "# Read the data and plot it (possibly with passing times in):\n",
        "filename = 'https://raw.githubusercontent.com/vjbAvanzi/Group12_AppStat2021/main/Incline/Incline_Normal_height1_Run2.csv'\n",
        "\n",
        "time, voltage = read_csv(filename)\n",
        "timepass, timepass_sig = find_midpoints(time, voltage)\n",
        "\n",
        "print('Passing times in seconds:',timepass)\n",
        "print('Uncertainty on passing times:',timepass_sig)"
      ]
    },
    {
      "cell_type": "code",
      "execution_count": 15,
      "metadata": {
        "id": "R19wsgBxmvKC"
      },
      "outputs": [],
      "source": [
        "def quadratic_equation(x, a, b, c):\n",
        "    # Note that in our case x is the time and y (the returned value) is the position\n",
        "    return 0.5*a*x**2 + b*x + c\n",
        "\n",
        "def find_acceleration(timepass, timepass_sig, gate_positions, gate_positions_sig, verbose=True, veryverbose=True, show_plot=True):\n",
        "    # From the drawing we made on paper to define the gates we see that gate 1 is\n",
        "    # at the top of the slope and gate 5 is at the bottom. However, the distances\n",
        "    # were measured from the bottom to the top of the slope. This is not a problem,\n",
        "    # but it does mean that we should find a negative acceleration from the fit.\n",
        "    chi2fit = Chi2Regression(quadratic_equation, timepass, gate_positions, gate_positions_sig)\n",
        "\n",
        "    minuit_chi2 = Minuit(chi2fit, a=-1.0 ,b=0.0 ,c=0.0)\n",
        "    minuit_chi2.errordef = 1.0         # This is the definition for ChiSquare fits\n",
        "    if veryverbose:\n",
        "        display(minuit_chi2.migrad())  # This is where the minimisation is carried out!\n",
        "    else:\n",
        "        minuit_chi2.migrad()           # This is where the minimisation is carried out!\n",
        "    if (not minuit_chi2.fmin.is_valid):\n",
        "        print(\"  WARNING: The ChiSquare fit DID NOT converge!!! \")\n",
        "    \n",
        "    if verbose:\n",
        "        for name in minuit_chi2.parameters:\n",
        "            print(\"Fit value (exp): {0} = {1:.5f} +/- {2:.5f}\".format(name, minuit_chi2.values[name], minuit_chi2.errors[name]))\n",
        "    chi2 = minuit_chi2.fmin.fval\n",
        "    Ndof = len(timepass) - len(minuit_chi2.values[:])\n",
        "    Prob = stats.chi2.sf(chi2, Ndof)\n",
        "    if verbose:\n",
        "        print(f\"  Model fit:  Prob(Chi2={chi2:6.1f}, Ndof={Ndof:3d}) = {Prob:7.5f}\")\n",
        "\n",
        "    a_fit, b_fit, c_fit = minuit_chi2.values[:]\n",
        "    ea_fit, eb_fit, ec_fit = minuit_chi2.errors[:]\n",
        "    \n",
        "    if show_plot:\n",
        "        fig, ax = plt.subplots(figsize=(14, 6))\n",
        "        \n",
        "        ax.errorbar(timepass,gate_positions,yerr=gate_positions_sig,xerr=timepass_sig, label='Measurements', fmt='.')\n",
        "        \n",
        "        x_values = np.linspace(timepass[0],timepass[-1],1000)\n",
        "        y_values = quadratic_equation(x_values, a_fit, b_fit, c_fit)\n",
        "        ax.plot(x_values, y_values, linewidth=2.0, label=f'Fit with quadratic equation (Chi2 = {chi2:6.1f})')\n",
        "        \n",
        "        ax.set_title(\"Data from Ball-on-Incline experiment\")\n",
        "        ax.set_xlabel(\"Time (s)\")\n",
        "        ax.set_ylabel(\"Position (m)\")\n",
        "        ax.legend(loc='best')\n",
        "    \n",
        "    return a_fit, ea_fit"
      ]
    },
    {
      "cell_type": "code",
      "execution_count": 16,
      "metadata": {
        "colab": {
          "base_uri": "https://localhost:8080/",
          "height": 801
        },
        "id": "suSZ8xYUmvBr",
        "outputId": "8a280d9c-37ef-404b-cec3-6e99bf5795a2"
      },
      "outputs": [
        {
          "output_type": "display_data",
          "data": {
            "text/html": [
              "<table>\n",
              "    <tr>\n",
              "        <th colspan=\"5\" style=\"text-align:center\" title=\"Minimizer\"> Migrad </th>\n",
              "    </tr>\n",
              "    <tr>\n",
              "        <td colspan=\"2\" style=\"text-align:left\" title=\"Minimum value of function\"> FCN = 28.54 </td>\n",
              "        <td colspan=\"3\" style=\"text-align:center\" title=\"No. of function evaluations in last call and total number\"> Nfcn = 72 </td>\n",
              "    </tr>\n",
              "    <tr>\n",
              "        <td colspan=\"2\" style=\"text-align:left\" title=\"Estimated distance to minimum and goal\"> EDM = 5.28e-13 (Goal: 0.0002) </td>\n",
              "        <td colspan=\"3\" style=\"text-align:center\" title=\"No. of gradient evaluations in last call and total number\">  </td>\n",
              "    </tr>\n",
              "    <tr>\n",
              "        <td colspan=\"2\" style=\"text-align:center;background-color:#92CCA6;color:black\"> Valid Minimum </td>\n",
              "        <td colspan=\"3\" style=\"text-align:center;background-color:#92CCA6;color:black\"> No Parameters at limit </td>\n",
              "    </tr>\n",
              "    <tr>\n",
              "        <td colspan=\"2\" style=\"text-align:center;background-color:#92CCA6;color:black\"> Below EDM threshold (goal x 10) </td>\n",
              "        <td colspan=\"3\" style=\"text-align:center;background-color:#92CCA6;color:black\"> Below call limit </td>\n",
              "    </tr>\n",
              "    <tr>\n",
              "        <td style=\"text-align:center;background-color:#92CCA6;color:black\"> Covariance </td>\n",
              "        <td style=\"text-align:center;background-color:#92CCA6;color:black\"> Hesse ok </td>\n",
              "        <td style=\"text-align:center;background-color:#92CCA6;color:black\" title=\"Is covariance matrix accurate?\"> Accurate </td>\n",
              "        <td style=\"text-align:center;background-color:#92CCA6;color:black\" title=\"Is covariance matrix positive definite?\"> Pos. def. </td>\n",
              "        <td style=\"text-align:center;background-color:#92CCA6;color:black\" title=\"Was positive definiteness enforced by Minuit?\"> Not forced </td>\n",
              "    </tr>\n",
              "</table><table>\n",
              "    <tr>\n",
              "        <td></td>\n",
              "        <th title=\"Variable name\"> Name </th>\n",
              "        <th title=\"Value of parameter\"> Value </th>\n",
              "        <th title=\"Hesse error\"> Hesse Error </th>\n",
              "        <th title=\"Minos lower error\"> Minos Error- </th>\n",
              "        <th title=\"Minos upper error\"> Minos Error+ </th>\n",
              "        <th title=\"Lower limit of the parameter\"> Limit- </th>\n",
              "        <th title=\"Upper limit of the parameter\"> Limit+ </th>\n",
              "        <th title=\"Is the parameter fixed in the fit\"> Fixed </th>\n",
              "    </tr>\n",
              "    <tr>\n",
              "        <th> 0 </th>\n",
              "        <td> a </td>\n",
              "        <td> -1.537 </td>\n",
              "        <td> 0.005 </td>\n",
              "        <td>  </td>\n",
              "        <td>  </td>\n",
              "        <td>  </td>\n",
              "        <td>  </td>\n",
              "        <td>  </td>\n",
              "    </tr>\n",
              "    <tr>\n",
              "        <th> 1 </th>\n",
              "        <td> b </td>\n",
              "        <td> -0.4029 </td>\n",
              "        <td> 0.0019 </td>\n",
              "        <td>  </td>\n",
              "        <td>  </td>\n",
              "        <td>  </td>\n",
              "        <td>  </td>\n",
              "        <td>  </td>\n",
              "    </tr>\n",
              "    <tr>\n",
              "        <th> 2 </th>\n",
              "        <td> c </td>\n",
              "        <td> 943.64e-3 </td>\n",
              "        <td> 0.33e-3 </td>\n",
              "        <td>  </td>\n",
              "        <td>  </td>\n",
              "        <td>  </td>\n",
              "        <td>  </td>\n",
              "        <td>  </td>\n",
              "    </tr>\n",
              "</table><table>\n",
              "    <tr>\n",
              "        <td></td>\n",
              "        <th> a </th>\n",
              "        <th> b </th>\n",
              "        <th> c </th>\n",
              "    </tr>\n",
              "    <tr>\n",
              "        <th> a </th>\n",
              "        <td> 2.04e-05 </td>\n",
              "        <td style=\"background-color:rgb(125,125,250);color:black\"> -8.19e-06 <strong>(-0.963)</strong> </td>\n",
              "        <td style=\"background-color:rgb(250,168,168);color:black\"> 8.12e-07 <strong>(0.549)</strong> </td>\n",
              "    </tr>\n",
              "    <tr>\n",
              "        <th> b </th>\n",
              "        <td style=\"background-color:rgb(125,125,250);color:black\"> -8.19e-06 <strong>(-0.963)</strong> </td>\n",
              "        <td> 3.54e-06 </td>\n",
              "        <td style=\"background-color:rgb(156,156,250);color:black\"> -4.44e-07 <strong>(-0.722)</strong> </td>\n",
              "    </tr>\n",
              "    <tr>\n",
              "        <th> c </th>\n",
              "        <td style=\"background-color:rgb(250,168,168);color:black\"> 8.12e-07 <strong>(0.549)</strong> </td>\n",
              "        <td style=\"background-color:rgb(156,156,250);color:black\"> -4.44e-07 <strong>(-0.722)</strong> </td>\n",
              "        <td> 1.07e-07 </td>\n",
              "    </tr>\n",
              "</table>"
            ],
            "text/plain": [
              "┌─────────────────────────────────────────────────────────────────────────┐\n",
              "│                                Migrad                                   │\n",
              "├──────────────────────────────────┬──────────────────────────────────────┤\n",
              "│ FCN = 28.54                      │              Nfcn = 72               │\n",
              "│ EDM = 5.28e-13 (Goal: 0.0002)    │                                      │\n",
              "├──────────────────────────────────┼──────────────────────────────────────┤\n",
              "│          Valid Minimum           │        No Parameters at limit        │\n",
              "├──────────────────────────────────┼──────────────────────────────────────┤\n",
              "│ Below EDM threshold (goal x 10)  │           Below call limit           │\n",
              "├───────────────┬──────────────────┼───────────┬─────────────┬────────────┤\n",
              "│  Covariance   │     Hesse ok     │ Accurate  │  Pos. def.  │ Not forced │\n",
              "└───────────────┴──────────────────┴───────────┴─────────────┴────────────┘\n",
              "┌───┬──────┬───────────┬───────────┬────────────┬────────────┬─────────┬─────────┬───────┐\n",
              "│   │ Name │   Value   │ Hesse Err │ Minos Err- │ Minos Err+ │ Limit-  │ Limit+  │ Fixed │\n",
              "├───┼──────┼───────────┼───────────┼────────────┼────────────┼─────────┼─────────┼───────┤\n",
              "│ 0 │ a    │  -1.537   │   0.005   │            │            │         │         │       │\n",
              "│ 1 │ b    │  -0.4029  │  0.0019   │            │            │         │         │       │\n",
              "│ 2 │ c    │ 943.64e-3 │  0.33e-3  │            │            │         │         │       │\n",
              "└───┴──────┴───────────┴───────────┴────────────┴────────────┴─────────┴─────────┴───────┘\n",
              "┌───┬───────────────────────────────┐\n",
              "│   │         a         b         c │\n",
              "├───┼───────────────────────────────┤\n",
              "│ a │  2.04e-05 -8.19e-06  8.12e-07 │\n",
              "│ b │ -8.19e-06  3.54e-06 -4.44e-07 │\n",
              "│ c │  8.12e-07 -4.44e-07  1.07e-07 │\n",
              "└───┴───────────────────────────────┘"
            ]
          },
          "metadata": {}
        },
        {
          "output_type": "stream",
          "name": "stdout",
          "text": [
            "Fit value (exp): a = -1.53724 +/- 0.00452\n",
            "Fit value (exp): b = -0.40290 +/- 0.00188\n",
            "Fit value (exp): c = 0.94364 +/- 0.00033\n",
            "  Model fit:  Prob(Chi2=  28.5, Ndof=  2) = 0.00000\n"
          ]
        },
        {
          "output_type": "execute_result",
          "data": {
            "text/plain": [
              "(-1.5372396901801908, 0.004520528447449959)"
            ]
          },
          "metadata": {},
          "execution_count": 16
        },
        {
          "output_type": "display_data",
          "data": {
            "image/png": "[encoded data removed]",
            "text/plain": [
              "<Figure size 1008x432 with 1 Axes>"
            ]
          },
          "metadata": {
            "needs_background": "light"
          }
        }
      ],
      "source": [
        "find_acceleration(timepass, timepass_sig, rail_distances_mean[1:], rail_distances_uncertainty[1:]) # Slicing to include only the gate positions and not the start position"
      ]
    },
    {
      "cell_type": "markdown",
      "metadata": {
        "id": "94aPWdABD38q"
      },
      "source": [
        "# Repeat the code above for all timing measurements\n",
        "Grouped by measurement series:\n",
        "- N means normal, I means inverse/inverted, V means vertical\n",
        "- 1 and 2 represent the height"
      ]
    },
    {
      "cell_type": "code",
      "execution_count": 17,
      "metadata": {
        "colab": {
          "base_uri": "https://localhost:8080/",
          "height": 1000
        },
        "id": "OG8YhEdwD18h",
        "outputId": "907e3bd9-6623-4359-a9ba-9247f4590ce8"
      },
      "outputs": [
        {
          "output_type": "stream",
          "name": "stdout",
          "text": [
            "Passing times in seconds: [0.01271457 0.29772201 0.51363411 0.68096097 0.78983244]\n",
            "Uncertainty on passing times: [0.01229155 0.00541882 0.00378095 0.0031676  0.00281644]\n"
          ]
        },
        {
          "output_type": "display_data",
          "data": {
            "text/html": [
              "<table>\n",
              "    <tr>\n",
              "        <th colspan=\"5\" style=\"text-align:center\" title=\"Minimizer\"> Migrad </th>\n",
              "    </tr>\n",
              "    <tr>\n",
              "        <td colspan=\"2\" style=\"text-align:left\" title=\"Minimum value of function\"> FCN = 24.01 </td>\n",
              "        <td colspan=\"3\" style=\"text-align:center\" title=\"No. of function evaluations in last call and total number\"> Nfcn = 72 </td>\n",
              "    </tr>\n",
              "    <tr>\n",
              "        <td colspan=\"2\" style=\"text-align:left\" title=\"Estimated distance to minimum and goal\"> EDM = 9.33e-13 (Goal: 0.0002) </td>\n",
              "        <td colspan=\"3\" style=\"text-align:center\" title=\"No. of gradient evaluations in last call and total number\">  </td>\n",
              "    </tr>\n",
              "    <tr>\n",
              "        <td colspan=\"2\" style=\"text-align:center;background-color:#92CCA6;color:black\"> Valid Minimum </td>\n",
              "        <td colspan=\"3\" style=\"text-align:center;background-color:#92CCA6;color:black\"> No Parameters at limit </td>\n",
              "    </tr>\n",
              "    <tr>\n",
              "        <td colspan=\"2\" style=\"text-align:center;background-color:#92CCA6;color:black\"> Below EDM threshold (goal x 10) </td>\n",
              "        <td colspan=\"3\" style=\"text-align:center;background-color:#92CCA6;color:black\"> Below call limit </td>\n",
              "    </tr>\n",
              "    <tr>\n",
              "        <td style=\"text-align:center;background-color:#92CCA6;color:black\"> Covariance </td>\n",
              "        <td style=\"text-align:center;background-color:#92CCA6;color:black\"> Hesse ok </td>\n",
              "        <td style=\"text-align:center;background-color:#92CCA6;color:black\" title=\"Is covariance matrix accurate?\"> Accurate </td>\n",
              "        <td style=\"text-align:center;background-color:#92CCA6;color:black\" title=\"Is covariance matrix positive definite?\"> Pos. def. </td>\n",
              "        <td style=\"text-align:center;background-color:#92CCA6;color:black\" title=\"Was positive definiteness enforced by Minuit?\"> Not forced </td>\n",
              "    </tr>\n",
              "</table><table>\n",
              "    <tr>\n",
              "        <td></td>\n",
              "        <th title=\"Variable name\"> Name </th>\n",
              "        <th title=\"Value of parameter\"> Value </th>\n",
              "        <th title=\"Hesse error\"> Hesse Error </th>\n",
              "        <th title=\"Minos lower error\"> Minos Error- </th>\n",
              "        <th title=\"Minos upper error\"> Minos Error+ </th>\n",
              "        <th title=\"Lower limit of the parameter\"> Limit- </th>\n",
              "        <th title=\"Upper limit of the parameter\"> Limit+ </th>\n",
              "        <th title=\"Is the parameter fixed in the fit\"> Fixed </th>\n",
              "    </tr>\n",
              "    <tr>\n",
              "        <th> 0 </th>\n",
              "        <td> a </td>\n",
              "        <td> -1.537 </td>\n",
              "        <td> 0.005 </td>\n",
              "        <td>  </td>\n",
              "        <td>  </td>\n",
              "        <td>  </td>\n",
              "        <td>  </td>\n",
              "        <td>  </td>\n",
              "    </tr>\n",
              "    <tr>\n",
              "        <th> 1 </th>\n",
              "        <td> b </td>\n",
              "        <td> -0.4064 </td>\n",
              "        <td> 0.0019 </td>\n",
              "        <td>  </td>\n",
              "        <td>  </td>\n",
              "        <td>  </td>\n",
              "        <td>  </td>\n",
              "        <td>  </td>\n",
              "    </tr>\n",
              "    <tr>\n",
              "        <th> 2 </th>\n",
              "        <td> c </td>\n",
              "        <td> 943.61e-3 </td>\n",
              "        <td> 0.33e-3 </td>\n",
              "        <td>  </td>\n",
              "        <td>  </td>\n",
              "        <td>  </td>\n",
              "        <td>  </td>\n",
              "        <td>  </td>\n",
              "    </tr>\n",
              "</table><table>\n",
              "    <tr>\n",
              "        <td></td>\n",
              "        <th> a </th>\n",
              "        <th> b </th>\n",
              "        <th> c </th>\n",
              "    </tr>\n",
              "    <tr>\n",
              "        <th> a </th>\n",
              "        <td> 2.06e-05 </td>\n",
              "        <td style=\"background-color:rgb(125,125,250);color:black\"> -8.24e-06 <strong>(-0.963)</strong> </td>\n",
              "        <td style=\"background-color:rgb(250,168,168);color:black\"> 8.14e-07 <strong>(0.549)</strong> </td>\n",
              "    </tr>\n",
              "    <tr>\n",
              "        <th> b </th>\n",
              "        <td style=\"background-color:rgb(125,125,250);color:black\"> -8.24e-06 <strong>(-0.963)</strong> </td>\n",
              "        <td> 3.55e-06 </td>\n",
              "        <td style=\"background-color:rgb(156,156,250);color:black\"> -4.44e-07 <strong>(-0.722)</strong> </td>\n",
              "    </tr>\n",
              "    <tr>\n",
              "        <th> c </th>\n",
              "        <td style=\"background-color:rgb(250,168,168);color:black\"> 8.14e-07 <strong>(0.549)</strong> </td>\n",
              "        <td style=\"background-color:rgb(156,156,250);color:black\"> -4.44e-07 <strong>(-0.722)</strong> </td>\n",
              "        <td> 1.07e-07 </td>\n",
              "    </tr>\n",
              "</table>"
            ],
            "text/plain": [
              "┌─────────────────────────────────────────────────────────────────────────┐\n",
              "│                                Migrad                                   │\n",
              "├──────────────────────────────────┬──────────────────────────────────────┤\n",
              "│ FCN = 24.01                      │              Nfcn = 72               │\n",
              "│ EDM = 9.33e-13 (Goal: 0.0002)    │                                      │\n",
              "├──────────────────────────────────┼──────────────────────────────────────┤\n",
              "│          Valid Minimum           │        No Parameters at limit        │\n",
              "├──────────────────────────────────┼──────────────────────────────────────┤\n",
              "│ Below EDM threshold (goal x 10)  │           Below call limit           │\n",
              "├───────────────┬──────────────────┼───────────┬─────────────┬────────────┤\n",
              "│  Covariance   │     Hesse ok     │ Accurate  │  Pos. def.  │ Not forced │\n",
              "└───────────────┴──────────────────┴───────────┴─────────────┴────────────┘\n",
              "┌───┬──────┬───────────┬───────────┬────────────┬────────────┬─────────┬─────────┬───────┐\n",
              "│   │ Name │   Value   │ Hesse Err │ Minos Err- │ Minos Err+ │ Limit-  │ Limit+  │ Fixed │\n",
              "├───┼──────┼───────────┼───────────┼────────────┼────────────┼─────────┼─────────┼───────┤\n",
              "│ 0 │ a    │  -1.537   │   0.005   │            │            │         │         │       │\n",
              "│ 1 │ b    │  -0.4064  │  0.0019   │            │            │         │         │       │\n",
              "│ 2 │ c    │ 943.61e-3 │  0.33e-3  │            │            │         │         │       │\n",
              "└───┴──────┴───────────┴───────────┴────────────┴────────────┴─────────┴─────────┴───────┘\n",
              "┌───┬───────────────────────────────┐\n",
              "│   │         a         b         c │\n",
              "├───┼───────────────────────────────┤\n",
              "│ a │  2.06e-05 -8.24e-06  8.14e-07 │\n",
              "│ b │ -8.24e-06  3.55e-06 -4.44e-07 │\n",
              "│ c │  8.14e-07 -4.44e-07  1.07e-07 │\n",
              "└───┴───────────────────────────────┘"
            ]
          },
          "metadata": {}
        },
        {
          "output_type": "stream",
          "name": "stdout",
          "text": [
            "Fit value (exp): a = -1.53742 +/- 0.00454\n",
            "Fit value (exp): b = -0.40638 +/- 0.00188\n",
            "Fit value (exp): c = 0.94361 +/- 0.00033\n",
            "  Model fit:  Prob(Chi2=  24.0, Ndof=  2) = 0.00001\n",
            "Passing times in seconds: [0.01289845 0.2989662  0.51523661 0.68257141 0.79162088]\n",
            "Uncertainty on passing times: [0.01247241 0.00543522 0.00380054 0.00317683 0.00282391]\n"
          ]
        },
        {
          "output_type": "display_data",
          "data": {
            "text/html": [
              "<table>\n",
              "    <tr>\n",
              "        <th colspan=\"5\" style=\"text-align:center\" title=\"Minimizer\"> Migrad </th>\n",
              "    </tr>\n",
              "    <tr>\n",
              "        <td colspan=\"2\" style=\"text-align:left\" title=\"Minimum value of function\"> FCN = 28.54 </td>\n",
              "        <td colspan=\"3\" style=\"text-align:center\" title=\"No. of function evaluations in last call and total number\"> Nfcn = 72 </td>\n",
              "    </tr>\n",
              "    <tr>\n",
              "        <td colspan=\"2\" style=\"text-align:left\" title=\"Estimated distance to minimum and goal\"> EDM = 5.28e-13 (Goal: 0.0002) </td>\n",
              "        <td colspan=\"3\" style=\"text-align:center\" title=\"No. of gradient evaluations in last call and total number\">  </td>\n",
              "    </tr>\n",
              "    <tr>\n",
              "        <td colspan=\"2\" style=\"text-align:center;background-color:#92CCA6;color:black\"> Valid Minimum </td>\n",
              "        <td colspan=\"3\" style=\"text-align:center;background-color:#92CCA6;color:black\"> No Parameters at limit </td>\n",
              "    </tr>\n",
              "    <tr>\n",
              "        <td colspan=\"2\" style=\"text-align:center;background-color:#92CCA6;color:black\"> Below EDM threshold (goal x 10) </td>\n",
              "        <td colspan=\"3\" style=\"text-align:center;background-color:#92CCA6;color:black\"> Below call limit </td>\n",
              "    </tr>\n",
              "    <tr>\n",
              "        <td style=\"text-align:center;background-color:#92CCA6;color:black\"> Covariance </td>\n",
              "        <td style=\"text-align:center;background-color:#92CCA6;color:black\"> Hesse ok </td>\n",
              "        <td style=\"text-align:center;background-color:#92CCA6;color:black\" title=\"Is covariance matrix accurate?\"> Accurate </td>\n",
              "        <td style=\"text-align:center;background-color:#92CCA6;color:black\" title=\"Is covariance matrix positive definite?\"> Pos. def. </td>\n",
              "        <td style=\"text-align:center;background-color:#92CCA6;color:black\" title=\"Was positive definiteness enforced by Minuit?\"> Not forced </td>\n",
              "    </tr>\n",
              "</table><table>\n",
              "    <tr>\n",
              "        <td></td>\n",
              "        <th title=\"Variable name\"> Name </th>\n",
              "        <th title=\"Value of parameter\"> Value </th>\n",
              "        <th title=\"Hesse error\"> Hesse Error </th>\n",
              "        <th title=\"Minos lower error\"> Minos Error- </th>\n",
              "        <th title=\"Minos upper error\"> Minos Error+ </th>\n",
              "        <th title=\"Lower limit of the parameter\"> Limit- </th>\n",
              "        <th title=\"Upper limit of the parameter\"> Limit+ </th>\n",
              "        <th title=\"Is the parameter fixed in the fit\"> Fixed </th>\n",
              "    </tr>\n",
              "    <tr>\n",
              "        <th> 0 </th>\n",
              "        <td> a </td>\n",
              "        <td> -1.537 </td>\n",
              "        <td> 0.005 </td>\n",
              "        <td>  </td>\n",
              "        <td>  </td>\n",
              "        <td>  </td>\n",
              "        <td>  </td>\n",
              "        <td>  </td>\n",
              "    </tr>\n",
              "    <tr>\n",
              "        <th> 1 </th>\n",
              "        <td> b </td>\n",
              "        <td> -0.4029 </td>\n",
              "        <td> 0.0019 </td>\n",
              "        <td>  </td>\n",
              "        <td>  </td>\n",
              "        <td>  </td>\n",
              "        <td>  </td>\n",
              "        <td>  </td>\n",
              "    </tr>\n",
              "    <tr>\n",
              "        <th> 2 </th>\n",
              "        <td> c </td>\n",
              "        <td> 943.64e-3 </td>\n",
              "        <td> 0.33e-3 </td>\n",
              "        <td>  </td>\n",
              "        <td>  </td>\n",
              "        <td>  </td>\n",
              "        <td>  </td>\n",
              "        <td>  </td>\n",
              "    </tr>\n",
              "</table><table>\n",
              "    <tr>\n",
              "        <td></td>\n",
              "        <th> a </th>\n",
              "        <th> b </th>\n",
              "        <th> c </th>\n",
              "    </tr>\n",
              "    <tr>\n",
              "        <th> a </th>\n",
              "        <td> 2.04e-05 </td>\n",
              "        <td style=\"background-color:rgb(125,125,250);color:black\"> -8.19e-06 <strong>(-0.963)</strong> </td>\n",
              "        <td style=\"background-color:rgb(250,168,168);color:black\"> 8.12e-07 <strong>(0.549)</strong> </td>\n",
              "    </tr>\n",
              "    <tr>\n",
              "        <th> b </th>\n",
              "        <td style=\"background-color:rgb(125,125,250);color:black\"> -8.19e-06 <strong>(-0.963)</strong> </td>\n",
              "        <td> 3.54e-06 </td>\n",
              "        <td style=\"background-color:rgb(156,156,250);color:black\"> -4.44e-07 <strong>(-0.722)</strong> </td>\n",
              "    </tr>\n",
              "    <tr>\n",
              "        <th> c </th>\n",
              "        <td style=\"background-color:rgb(250,168,168);color:black\"> 8.12e-07 <strong>(0.549)</strong> </td>\n",
              "        <td style=\"background-color:rgb(156,156,250);color:black\"> -4.44e-07 <strong>(-0.722)</strong> </td>\n",
              "        <td> 1.07e-07 </td>\n",
              "    </tr>\n",
              "</table>"
            ],
            "text/plain": [
              "┌─────────────────────────────────────────────────────────────────────────┐\n",
              "│                                Migrad                                   │\n",
              "├──────────────────────────────────┬──────────────────────────────────────┤\n",
              "│ FCN = 28.54                      │              Nfcn = 72               │\n",
              "│ EDM = 5.28e-13 (Goal: 0.0002)    │                                      │\n",
              "├──────────────────────────────────┼──────────────────────────────────────┤\n",
              "│          Valid Minimum           │        No Parameters at limit        │\n",
              "├──────────────────────────────────┼──────────────────────────────────────┤\n",
              "│ Below EDM threshold (goal x 10)  │           Below call limit           │\n",
              "├───────────────┬──────────────────┼───────────┬─────────────┬────────────┤\n",
              "│  Covariance   │     Hesse ok     │ Accurate  │  Pos. def.  │ Not forced │\n",
              "└───────────────┴──────────────────┴───────────┴─────────────┴────────────┘\n",
              "┌───┬──────┬───────────┬───────────┬────────────┬────────────┬─────────┬─────────┬───────┐\n",
              "│   │ Name │   Value   │ Hesse Err │ Minos Err- │ Minos Err+ │ Limit-  │ Limit+  │ Fixed │\n",
              "├───┼──────┼───────────┼───────────┼────────────┼────────────┼─────────┼─────────┼───────┤\n",
              "│ 0 │ a    │  -1.537   │   0.005   │            │            │         │         │       │\n",
              "│ 1 │ b    │  -0.4029  │  0.0019   │            │            │         │         │       │\n",
              "│ 2 │ c    │ 943.64e-3 │  0.33e-3  │            │            │         │         │       │\n",
              "└───┴──────┴───────────┴───────────┴────────────┴────────────┴─────────┴─────────┴───────┘\n",
              "┌───┬───────────────────────────────┐\n",
              "│   │         a         b         c │\n",
              "├───┼───────────────────────────────┤\n",
              "│ a │  2.04e-05 -8.19e-06  8.12e-07 │\n",
              "│ b │ -8.19e-06  3.54e-06 -4.44e-07 │\n",
              "│ c │  8.12e-07 -4.44e-07  1.07e-07 │\n",
              "└───┴───────────────────────────────┘"
            ]
          },
          "metadata": {}
        },
        {
          "output_type": "stream",
          "name": "stdout",
          "text": [
            "Fit value (exp): a = -1.53724 +/- 0.00452\n",
            "Fit value (exp): b = -0.40290 +/- 0.00188\n",
            "Fit value (exp): c = 0.94364 +/- 0.00033\n",
            "  Model fit:  Prob(Chi2=  28.5, Ndof=  2) = 0.00000\n",
            "Passing times in seconds: [0.01259878 0.29632496 0.51196815 0.67891532 0.78778423]\n",
            "Uncertainty on passing times: [0.01219863 0.00540846 0.00378688 0.00315546 0.00281107]\n"
          ]
        },
        {
          "output_type": "display_data",
          "data": {
            "text/html": [
              "<table>\n",
              "    <tr>\n",
              "        <th colspan=\"5\" style=\"text-align:center\" title=\"Minimizer\"> Migrad </th>\n",
              "    </tr>\n",
              "    <tr>\n",
              "        <td colspan=\"2\" style=\"text-align:left\" title=\"Minimum value of function\"> FCN = 29.34 </td>\n",
              "        <td colspan=\"3\" style=\"text-align:center\" title=\"No. of function evaluations in last call and total number\"> Nfcn = 72 </td>\n",
              "    </tr>\n",
              "    <tr>\n",
              "        <td colspan=\"2\" style=\"text-align:left\" title=\"Estimated distance to minimum and goal\"> EDM = 1.43e-13 (Goal: 0.0002) </td>\n",
              "        <td colspan=\"3\" style=\"text-align:center\" title=\"No. of gradient evaluations in last call and total number\">  </td>\n",
              "    </tr>\n",
              "    <tr>\n",
              "        <td colspan=\"2\" style=\"text-align:center;background-color:#92CCA6;color:black\"> Valid Minimum </td>\n",
              "        <td colspan=\"3\" style=\"text-align:center;background-color:#92CCA6;color:black\"> No Parameters at limit </td>\n",
              "    </tr>\n",
              "    <tr>\n",
              "        <td colspan=\"2\" style=\"text-align:center;background-color:#92CCA6;color:black\"> Below EDM threshold (goal x 10) </td>\n",
              "        <td colspan=\"3\" style=\"text-align:center;background-color:#92CCA6;color:black\"> Below call limit </td>\n",
              "    </tr>\n",
              "    <tr>\n",
              "        <td style=\"text-align:center;background-color:#92CCA6;color:black\"> Covariance </td>\n",
              "        <td style=\"text-align:center;background-color:#92CCA6;color:black\"> Hesse ok </td>\n",
              "        <td style=\"text-align:center;background-color:#92CCA6;color:black\" title=\"Is covariance matrix accurate?\"> Accurate </td>\n",
              "        <td style=\"text-align:center;background-color:#92CCA6;color:black\" title=\"Is covariance matrix positive definite?\"> Pos. def. </td>\n",
              "        <td style=\"text-align:center;background-color:#92CCA6;color:black\" title=\"Was positive definiteness enforced by Minuit?\"> Not forced </td>\n",
              "    </tr>\n",
              "</table><table>\n",
              "    <tr>\n",
              "        <td></td>\n",
              "        <th title=\"Variable name\"> Name </th>\n",
              "        <th title=\"Value of parameter\"> Value </th>\n",
              "        <th title=\"Hesse error\"> Hesse Error </th>\n",
              "        <th title=\"Minos lower error\"> Minos Error- </th>\n",
              "        <th title=\"Minos upper error\"> Minos Error+ </th>\n",
              "        <th title=\"Lower limit of the parameter\"> Limit- </th>\n",
              "        <th title=\"Upper limit of the parameter\"> Limit+ </th>\n",
              "        <th title=\"Is the parameter fixed in the fit\"> Fixed </th>\n",
              "    </tr>\n",
              "    <tr>\n",
              "        <th> 0 </th>\n",
              "        <td> a </td>\n",
              "        <td> -1.539 </td>\n",
              "        <td> 0.005 </td>\n",
              "        <td>  </td>\n",
              "        <td>  </td>\n",
              "        <td>  </td>\n",
              "        <td>  </td>\n",
              "        <td>  </td>\n",
              "    </tr>\n",
              "    <tr>\n",
              "        <th> 1 </th>\n",
              "        <td> b </td>\n",
              "        <td> -0.4101 </td>\n",
              "        <td> 0.0019 </td>\n",
              "        <td>  </td>\n",
              "        <td>  </td>\n",
              "        <td>  </td>\n",
              "        <td>  </td>\n",
              "        <td>  </td>\n",
              "    </tr>\n",
              "    <tr>\n",
              "        <th> 2 </th>\n",
              "        <td> c </td>\n",
              "        <td> 943.60e-3 </td>\n",
              "        <td> 0.33e-3 </td>\n",
              "        <td>  </td>\n",
              "        <td>  </td>\n",
              "        <td>  </td>\n",
              "        <td>  </td>\n",
              "        <td>  </td>\n",
              "    </tr>\n",
              "</table><table>\n",
              "    <tr>\n",
              "        <td></td>\n",
              "        <th> a </th>\n",
              "        <th> b </th>\n",
              "        <th> c </th>\n",
              "    </tr>\n",
              "    <tr>\n",
              "        <th> a </th>\n",
              "        <td> 2.08e-05 </td>\n",
              "        <td style=\"background-color:rgb(125,125,250);color:black\"> -8.3e-06 <strong>(-0.963)</strong> </td>\n",
              "        <td style=\"background-color:rgb(250,168,168);color:black\"> 8.18e-07 <strong>(0.549)</strong> </td>\n",
              "    </tr>\n",
              "    <tr>\n",
              "        <th> b </th>\n",
              "        <td style=\"background-color:rgb(125,125,250);color:black\"> -8.3e-06 <strong>(-0.963)</strong> </td>\n",
              "        <td> 3.57e-06 </td>\n",
              "        <td style=\"background-color:rgb(156,156,250);color:black\"> -4.45e-07 <strong>(-0.722)</strong> </td>\n",
              "    </tr>\n",
              "    <tr>\n",
              "        <th> c </th>\n",
              "        <td style=\"background-color:rgb(250,168,168);color:black\"> 8.18e-07 <strong>(0.549)</strong> </td>\n",
              "        <td style=\"background-color:rgb(156,156,250);color:black\"> -4.45e-07 <strong>(-0.722)</strong> </td>\n",
              "        <td> 1.07e-07 </td>\n",
              "    </tr>\n",
              "</table>"
            ],
            "text/plain": [
              "┌─────────────────────────────────────────────────────────────────────────┐\n",
              "│                                Migrad                                   │\n",
              "├──────────────────────────────────┬──────────────────────────────────────┤\n",
              "│ FCN = 29.34                      │              Nfcn = 72               │\n",
              "│ EDM = 1.43e-13 (Goal: 0.0002)    │                                      │\n",
              "├──────────────────────────────────┼──────────────────────────────────────┤\n",
              "│          Valid Minimum           │        No Parameters at limit        │\n",
              "├──────────────────────────────────┼──────────────────────────────────────┤\n",
              "│ Below EDM threshold (goal x 10)  │           Below call limit           │\n",
              "├───────────────┬──────────────────┼───────────┬─────────────┬────────────┤\n",
              "│  Covariance   │     Hesse ok     │ Accurate  │  Pos. def.  │ Not forced │\n",
              "└───────────────┴──────────────────┴───────────┴─────────────┴────────────┘\n",
              "┌───┬──────┬───────────┬───────────┬────────────┬────────────┬─────────┬─────────┬───────┐\n",
              "│   │ Name │   Value   │ Hesse Err │ Minos Err- │ Minos Err+ │ Limit-  │ Limit+  │ Fixed │\n",
              "├───┼──────┼───────────┼───────────┼────────────┼────────────┼─────────┼─────────┼───────┤\n",
              "│ 0 │ a    │  -1.539   │   0.005   │            │            │         │         │       │\n",
              "│ 1 │ b    │  -0.4101  │  0.0019   │            │            │         │         │       │\n",
              "│ 2 │ c    │ 943.60e-3 │  0.33e-3  │            │            │         │         │       │\n",
              "└───┴──────┴───────────┴───────────┴────────────┴────────────┴─────────┴─────────┴───────┘\n",
              "┌───┬───────────────────────────────┐\n",
              "│   │         a         b         c │\n",
              "├───┼───────────────────────────────┤\n",
              "│ a │  2.08e-05  -8.3e-06  8.18e-07 │\n",
              "│ b │  -8.3e-06  3.57e-06 -4.45e-07 │\n",
              "│ c │  8.18e-07 -4.45e-07  1.07e-07 │\n",
              "└───┴───────────────────────────────┘"
            ]
          },
          "metadata": {}
        },
        {
          "output_type": "stream",
          "name": "stdout",
          "text": [
            "Fit value (exp): a = -1.53882 +/- 0.00456\n",
            "Fit value (exp): b = -0.41009 +/- 0.00189\n",
            "Fit value (exp): c = 0.94360 +/- 0.00033\n",
            "  Model fit:  Prob(Chi2=  29.3, Ndof=  2) = 0.00000\n",
            "Mean a: -1.537822191307575\n",
            "Uncertainty on mean of a: 0.0026216470415351555\n",
            "Standard deviation of a: 0.0008659419912925402\n"
          ]
        },
        {
          "output_type": "display_data",
          "data": {
            "image/png": "[encoded data removed]",
            "text/plain": [
              "<Figure size 1008x432 with 1 Axes>"
            ]
          },
          "metadata": {
            "needs_background": "light"
          }
        },
        {
          "output_type": "display_data",
          "data": {
            "image/png": "[encoded data removed]",
            "text/plain": [
              "<Figure size 1008x432 with 1 Axes>"
            ]
          },
          "metadata": {
            "needs_background": "light"
          }
        },
        {
          "output_type": "display_data",
          "data": {
            "image/png": "[encoded data removed]",
            "text/plain": [
              "<Figure size 1008x432 with 1 Axes>"
            ]
          },
          "metadata": {
            "needs_background": "light"
          }
        },
        {
          "output_type": "display_data",
          "data": {
            "image/png": "[encoded data removed]",
            "text/plain": [
              "<Figure size 1008x432 with 1 Axes>"
            ]
          },
          "metadata": {
            "needs_background": "light"
          }
        },
        {
          "output_type": "display_data",
          "data": {
            "image/png": "[encoded data removed]",
            "text/plain": [
              "<Figure size 1008x432 with 1 Axes>"
            ]
          },
          "metadata": {
            "needs_background": "light"
          }
        },
        {
          "output_type": "display_data",
          "data": {
            "image/png": "[encoded data removed]",
            "text/plain": [
              "<Figure size 1008x432 with 1 Axes>"
            ]
          },
          "metadata": {
            "needs_background": "light"
          }
        }
      ],
      "source": [
        "filenames_N1 = ['Incline_Normal_height1_Run1','Incline_Normal_height1_Run2','Incline_Normal_height1_Run3']\n",
        "a_N1,ea_N1 = [],[]\n",
        "\n",
        "for i,filename in enumerate(filenames_N1):\n",
        "    filename = 'https://raw.githubusercontent.com/vjbAvanzi/Group12_AppStat2021/main/Incline/'+filename+'.csv'\n",
        "    time, voltage = read_csv(filename)\n",
        "    timepass, timepass_sig = find_midpoints(time, voltage)\n",
        "\n",
        "    print('Passing times in seconds:',timepass)\n",
        "    print('Uncertainty on passing times:',timepass_sig)\n",
        "    \n",
        "    a_fit, ea_fit = find_acceleration(timepass, timepass_sig, rail_distances_mean[1:], rail_distances_uncertainty[1:])\n",
        "    a_N1.append(a_fit)\n",
        "    ea_N1.append(ea_fit)\n",
        "\n",
        "a_N1,ea_N1 = np.array(a_N1),np.array(ea_N1)\n",
        "\n",
        "a_N1_mean = calculate_weighted_mean(a_N1,ea_N1)\n",
        "a_N1_uncertainty = calculate_uncertainty(ea_N1)\n",
        "a_N1_stdev = np.std(a_N1, ddof=1)\n",
        "\n",
        "verbose = True\n",
        "if verbose:\n",
        "    print('Mean a:',a_N1_mean)\n",
        "    print('Uncertainty on mean of a:',a_N1_uncertainty)\n",
        "    print('Standard deviation of a:',a_N1_stdev)"
      ]
    },
    {
      "cell_type": "code",
      "execution_count": 18,
      "metadata": {
        "id": "sdeJGgcOD16A"
      },
      "outputs": [],
      "source": [
        "def find_a(filenames, width=0.05, verbose=True, veryverbose=True, show_plot=True):\n",
        "    a,ea = [],[]\n",
        "\n",
        "    for i,filename in enumerate(filenames):\n",
        "        filename = 'https://raw.githubusercontent.com/vjbAvanzi/Group12_AppStat2021/main/Incline/'+filename+'.csv'\n",
        "        time, voltage = read_csv(filename)\n",
        "        timepass, timepass_sig = find_midpoints(time, voltage, width=width, show_plot=show_plot)\n",
        "        \n",
        "        if verbose:\n",
        "            print('Passing times in seconds:',timepass)\n",
        "            print('Uncertainty on passing times:',timepass_sig)\n",
        "\n",
        "        a_fit, ea_fit = find_acceleration(timepass, timepass_sig, rail_distances_mean[1:], rail_distances_uncertainty[1:]*3, verbose=verbose, veryverbose=veryverbose, show_plot=show_plot)\n",
        "        a.append(a_fit)\n",
        "        ea.append(ea_fit)\n",
        "\n",
        "    a, ea = np.array(a), np.array(ea)\n",
        "\n",
        "    a_mean = calculate_weighted_mean(a, ea)\n",
        "    a_uncertainty = calculate_uncertainty(ea)\n",
        "    a_stdev = np.std(a, ddof=1)\n",
        "\n",
        "    print('Mean a:',a_mean)\n",
        "    print('Uncertainty on mean of a:',a_uncertainty)\n",
        "    print('Standard deviation of a:',a_stdev)\n",
        "    \n",
        "    return a, ea, a_mean, a_uncertainty, a_stdev"
      ]
    },
    {
      "cell_type": "code",
      "execution_count": 19,
      "metadata": {
        "colab": {
          "base_uri": "https://localhost:8080/"
        },
        "id": "vSK2p12rD13f",
        "outputId": "24ec3d61-8e1e-44d0-9b5e-7463e70357df"
      },
      "outputs": [
        {
          "output_type": "stream",
          "name": "stdout",
          "text": [
            "Passing times in seconds: [0.01271457 0.29772201 0.51363411 0.68096097 0.78983244]\n",
            "Uncertainty on passing times: [0.01229155 0.00541882 0.00378095 0.0031676  0.00281644]\n",
            "Fit value (exp): a = -1.53742 +/- 0.01362\n",
            "Fit value (exp): b = -0.40638 +/- 0.00565\n",
            "Fit value (exp): c = 0.94361 +/- 0.00098\n",
            "  Model fit:  Prob(Chi2=   2.7, Ndof=  2) = 0.26346\n",
            "Passing times in seconds: [0.01289845 0.2989662  0.51523661 0.68257141 0.79162088]\n",
            "Uncertainty on passing times: [0.01247241 0.00543522 0.00380054 0.00317683 0.00282391]\n",
            "Fit value (exp): a = -1.53724 +/- 0.01356\n",
            "Fit value (exp): b = -0.40290 +/- 0.00564\n",
            "Fit value (exp): c = 0.94364 +/- 0.00098\n",
            "  Model fit:  Prob(Chi2=   3.2, Ndof=  2) = 0.20485\n",
            "Passing times in seconds: [0.01259878 0.29632496 0.51196815 0.67891532 0.78778423]\n",
            "Uncertainty on passing times: [0.01219863 0.00540846 0.00378688 0.00315546 0.00281107]\n",
            "Fit value (exp): a = -1.53882 +/- 0.01369\n",
            "Fit value (exp): b = -0.41009 +/- 0.00567\n",
            "Fit value (exp): c = 0.94360 +/- 0.00098\n",
            "  Model fit:  Prob(Chi2=   3.3, Ndof=  2) = 0.19591\n",
            "Mean a: -1.5378222000201587\n",
            "Uncertainty on mean of a: 0.007864866966062414\n",
            "Standard deviation of a: 0.0008659413616400858\n"
          ]
        }
      ],
      "source": [
        "filenames_N1 = ['Incline_Normal_height1_Run1','Incline_Normal_height1_Run2','Incline_Normal_height1_Run3']\n",
        "a_N1, ea_N1, a_mean_N1, a_uncertainty_N1, a_stdev_N1 = find_a(filenames_N1, veryverbose=False, show_plot=False)"
      ]
    },
    {
      "cell_type": "code",
      "execution_count": 20,
      "metadata": {
        "colab": {
          "base_uri": "https://localhost:8080/"
        },
        "id": "uNCbG5fqD11M",
        "outputId": "3546969d-d8d3-490a-b601-71a2118cea6e"
      },
      "outputs": [
        {
          "output_type": "stream",
          "name": "stdout",
          "text": [
            "Mean a: -0.51275739295333\n",
            "Uncertainty on mean of a: 0.0026373167969823887\n",
            "Standard deviation of a: 0.0029804126011952607\n"
          ]
        }
      ],
      "source": [
        "filenames_N2 = ['Incline_Normal_height2_ball2_Run1','Incline_Normal_height2_ball2_Run2','Incline_Normal_height2_ball2_Run3']\n",
        "a_N2, ea_N2, a_mean_N2, a_uncertainty_N2, a_stdev_N2 = find_a(filenames_N2, verbose=False, veryverbose=False, show_plot=False)"
      ]
    },
    {
      "cell_type": "code",
      "execution_count": 21,
      "metadata": {
        "colab": {
          "base_uri": "https://localhost:8080/"
        },
        "id": "BqLaeNVrD1yp",
        "outputId": "9f6304ee-b8cd-4424-a6a4-6e64ecad068e"
      },
      "outputs": [
        {
          "output_type": "stream",
          "name": "stdout",
          "text": [
            "Mean a: -1.4860872112763404\n",
            "Uncertainty on mean of a: 0.007574704954664206\n",
            "Standard deviation of a: 0.0049828493375652285\n"
          ]
        }
      ],
      "source": [
        "filenames_I1 = ['Incline_Inverted_height1_Run1','Incline_Inverted_height1_Run2','Incline_Inverted_height1_Run3']\n",
        "a_I1, ea_I1, a_mean_I1, a_uncertainty_I1, a_stdev_I1 = find_a(filenames_I1, verbose=False, veryverbose=False, show_plot=False)"
      ]
    },
    {
      "cell_type": "code",
      "execution_count": 22,
      "metadata": {
        "colab": {
          "base_uri": "https://localhost:8080/"
        },
        "id": "y9YukaSTD1wI",
        "outputId": "b55746d5-867e-4978-8b17-ae463d0a7792"
      },
      "outputs": [
        {
          "output_type": "stream",
          "name": "stdout",
          "text": [
            "Mean a: -0.465571693351983\n",
            "Uncertainty on mean of a: 0.0023920120204606065\n",
            "Standard deviation of a: 0.0055647401635483444\n"
          ]
        }
      ],
      "source": [
        "filenames_I2 = ['Incline_Inverse_height2_ball2_Run1','Incline_Inverse_height2_ball2_Run2','Incline_Inverse_height2_ball2_Run3']\n",
        "a_I2, ea_I2, a_mean_I2, a_uncertainty_I2, a_stdev_I2 = find_a(filenames_I2, verbose=False, veryverbose=False, show_plot=False)"
      ]
    },
    {
      "cell_type": "markdown",
      "metadata": {
        "id": "gotsEQoxEQ9g"
      },
      "source": [
        "# Peaks are too close together for the vertical experiments, some code finetuning is required - done\n",
        "# Last measurement is missing one peak, determine which gate didn't measure the ball passing (for now discard the 3rd run)"
      ]
    },
    {
      "cell_type": "code",
      "execution_count": 23,
      "metadata": {
        "colab": {
          "base_uri": "https://localhost:8080/",
          "height": 1000
        },
        "id": "QRYViK9vD1tj",
        "outputId": "98033cc0-aaae-4008-cd50-0ff8625546b7"
      },
      "outputs": [
        {
          "output_type": "stream",
          "name": "stdout",
          "text": [
            "Passing times in seconds: [0.00798656 0.14509941 0.23664982 0.30610074 0.35095663]\n",
            "Uncertainty on passing times: [0.00769834 0.00209636 0.00134728 0.00102627 0.0008635 ]\n"
          ]
        },
        {
          "output_type": "display_data",
          "data": {
            "text/html": [
              "<table>\n",
              "    <tr>\n",
              "        <th colspan=\"5\" style=\"text-align:center\" title=\"Minimizer\"> Migrad </th>\n",
              "    </tr>\n",
              "    <tr>\n",
              "        <td colspan=\"2\" style=\"text-align:left\" title=\"Minimum value of function\"> FCN = 2.888 </td>\n",
              "        <td colspan=\"3\" style=\"text-align:center\" title=\"No. of function evaluations in last call and total number\"> Nfcn = 62 </td>\n",
              "    </tr>\n",
              "    <tr>\n",
              "        <td colspan=\"2\" style=\"text-align:left\" title=\"Estimated distance to minimum and goal\"> EDM = 2.35e-14 (Goal: 0.0002) </td>\n",
              "        <td colspan=\"3\" style=\"text-align:center\" title=\"No. of gradient evaluations in last call and total number\">  </td>\n",
              "    </tr>\n",
              "    <tr>\n",
              "        <td colspan=\"2\" style=\"text-align:center;background-color:#92CCA6;color:black\"> Valid Minimum </td>\n",
              "        <td colspan=\"3\" style=\"text-align:center;background-color:#92CCA6;color:black\"> No Parameters at limit </td>\n",
              "    </tr>\n",
              "    <tr>\n",
              "        <td colspan=\"2\" style=\"text-align:center;background-color:#92CCA6;color:black\"> Below EDM threshold (goal x 10) </td>\n",
              "        <td colspan=\"3\" style=\"text-align:center;background-color:#92CCA6;color:black\"> Below call limit </td>\n",
              "    </tr>\n",
              "    <tr>\n",
              "        <td style=\"text-align:center;background-color:#92CCA6;color:black\"> Covariance </td>\n",
              "        <td style=\"text-align:center;background-color:#92CCA6;color:black\"> Hesse ok </td>\n",
              "        <td style=\"text-align:center;background-color:#92CCA6;color:black\" title=\"Is covariance matrix accurate?\"> Accurate </td>\n",
              "        <td style=\"text-align:center;background-color:#92CCA6;color:black\" title=\"Is covariance matrix positive definite?\"> Pos. def. </td>\n",
              "        <td style=\"text-align:center;background-color:#92CCA6;color:black\" title=\"Was positive definiteness enforced by Minuit?\"> Not forced </td>\n",
              "    </tr>\n",
              "</table><table>\n",
              "    <tr>\n",
              "        <td></td>\n",
              "        <th title=\"Variable name\"> Name </th>\n",
              "        <th title=\"Value of parameter\"> Value </th>\n",
              "        <th title=\"Hesse error\"> Hesse Error </th>\n",
              "        <th title=\"Minos lower error\"> Minos Error- </th>\n",
              "        <th title=\"Minos upper error\"> Minos Error+ </th>\n",
              "        <th title=\"Lower limit of the parameter\"> Limit- </th>\n",
              "        <th title=\"Upper limit of the parameter\"> Limit+ </th>\n",
              "        <th title=\"Is the parameter fixed in the fit\"> Fixed </th>\n",
              "    </tr>\n",
              "    <tr>\n",
              "        <th> 0 </th>\n",
              "        <td> a </td>\n",
              "        <td> -9.49 </td>\n",
              "        <td> 0.07 </td>\n",
              "        <td>  </td>\n",
              "        <td>  </td>\n",
              "        <td>  </td>\n",
              "        <td>  </td>\n",
              "        <td>  </td>\n",
              "    </tr>\n",
              "    <tr>\n",
              "        <th> 1 </th>\n",
              "        <td> b </td>\n",
              "        <td> -0.615 </td>\n",
              "        <td> 0.013 </td>\n",
              "        <td>  </td>\n",
              "        <td>  </td>\n",
              "        <td>  </td>\n",
              "        <td>  </td>\n",
              "        <td>  </td>\n",
              "    </tr>\n",
              "    <tr>\n",
              "        <th> 2 </th>\n",
              "        <td> c </td>\n",
              "        <td> 0.9436 </td>\n",
              "        <td> 0.0010 </td>\n",
              "        <td>  </td>\n",
              "        <td>  </td>\n",
              "        <td>  </td>\n",
              "        <td>  </td>\n",
              "        <td>  </td>\n",
              "    </tr>\n",
              "</table><table>\n",
              "    <tr>\n",
              "        <td></td>\n",
              "        <th> a </th>\n",
              "        <th> b </th>\n",
              "        <th> c </th>\n",
              "    </tr>\n",
              "    <tr>\n",
              "        <th> a </th>\n",
              "        <td> 0.00486 </td>\n",
              "        <td style=\"background-color:rgb(125,125,250);color:black\"> -0.000866 <strong>(-0.963)</strong> </td>\n",
              "        <td style=\"background-color:rgb(250,168,168);color:black\"> 3.84e-05 <strong>(0.548)</strong> </td>\n",
              "    </tr>\n",
              "    <tr>\n",
              "        <th> b </th>\n",
              "        <td style=\"background-color:rgb(125,125,250);color:black\"> -0.000866 <strong>(-0.963)</strong> </td>\n",
              "        <td> 0.000166 </td>\n",
              "        <td style=\"background-color:rgb(156,156,250);color:black\"> -9.36e-06 <strong>(-0.722)</strong> </td>\n",
              "    </tr>\n",
              "    <tr>\n",
              "        <th> c </th>\n",
              "        <td style=\"background-color:rgb(250,168,168);color:black\"> 3.84e-05 <strong>(0.548)</strong> </td>\n",
              "        <td style=\"background-color:rgb(156,156,250);color:black\"> -9.36e-06 <strong>(-0.722)</strong> </td>\n",
              "        <td> 1.01e-06 </td>\n",
              "    </tr>\n",
              "</table>"
            ],
            "text/plain": [
              "┌─────────────────────────────────────────────────────────────────────────┐\n",
              "│                                Migrad                                   │\n",
              "├──────────────────────────────────┬──────────────────────────────────────┤\n",
              "│ FCN = 2.888                      │              Nfcn = 62               │\n",
              "│ EDM = 2.35e-14 (Goal: 0.0002)    │                                      │\n",
              "├──────────────────────────────────┼──────────────────────────────────────┤\n",
              "│          Valid Minimum           │        No Parameters at limit        │\n",
              "├──────────────────────────────────┼──────────────────────────────────────┤\n",
              "│ Below EDM threshold (goal x 10)  │           Below call limit           │\n",
              "├───────────────┬──────────────────┼───────────┬─────────────┬────────────┤\n",
              "│  Covariance   │     Hesse ok     │ Accurate  │  Pos. def.  │ Not forced │\n",
              "└───────────────┴──────────────────┴───────────┴─────────────┴────────────┘\n",
              "┌───┬──────┬───────────┬───────────┬────────────┬────────────┬─────────┬─────────┬───────┐\n",
              "│   │ Name │   Value   │ Hesse Err │ Minos Err- │ Minos Err+ │ Limit-  │ Limit+  │ Fixed │\n",
              "├───┼──────┼───────────┼───────────┼────────────┼────────────┼─────────┼─────────┼───────┤\n",
              "│ 0 │ a    │   -9.49   │   0.07    │            │            │         │         │       │\n",
              "│ 1 │ b    │  -0.615   │   0.013   │            │            │         │         │       │\n",
              "│ 2 │ c    │  0.9436   │  0.0010   │            │            │         │         │       │\n",
              "└───┴──────┴───────────┴───────────┴────────────┴────────────┴─────────┴─────────┴───────┘\n",
              "┌───┬───────────────────────────────┐\n",
              "│   │         a         b         c │\n",
              "├───┼───────────────────────────────┤\n",
              "│ a │   0.00486 -0.000866  3.84e-05 │\n",
              "│ b │ -0.000866  0.000166 -9.36e-06 │\n",
              "│ c │  3.84e-05 -9.36e-06  1.01e-06 │\n",
              "└───┴───────────────────────────────┘"
            ]
          },
          "metadata": {}
        },
        {
          "output_type": "stream",
          "name": "stdout",
          "text": [
            "Fit value (exp): a = -9.49462 +/- 0.06972\n",
            "Fit value (exp): b = -0.61495 +/- 0.01290\n",
            "Fit value (exp): c = 0.94355 +/- 0.00101\n",
            "  Model fit:  Prob(Chi2=   2.9, Ndof=  2) = 0.23596\n",
            "Passing times in seconds: [-0.12518035  0.00177263  0.0915624   0.16025743  0.20475402]\n",
            "Uncertainty on passing times: [0.00540003 0.0016891  0.00122488 0.00121046 0.00108481]\n"
          ]
        },
        {
          "output_type": "display_data",
          "data": {
            "text/html": [
              "<table>\n",
              "    <tr>\n",
              "        <th colspan=\"5\" style=\"text-align:center\" title=\"Minimizer\"> Migrad </th>\n",
              "    </tr>\n",
              "    <tr>\n",
              "        <td colspan=\"2\" style=\"text-align:left\" title=\"Minimum value of function\"> FCN = 2.801 </td>\n",
              "        <td colspan=\"3\" style=\"text-align:center\" title=\"No. of function evaluations in last call and total number\"> Nfcn = 66 </td>\n",
              "    </tr>\n",
              "    <tr>\n",
              "        <td colspan=\"2\" style=\"text-align:left\" title=\"Estimated distance to minimum and goal\"> EDM = 8.5e-18 (Goal: 0.0002) </td>\n",
              "        <td colspan=\"3\" style=\"text-align:center\" title=\"No. of gradient evaluations in last call and total number\">  </td>\n",
              "    </tr>\n",
              "    <tr>\n",
              "        <td colspan=\"2\" style=\"text-align:center;background-color:#92CCA6;color:black\"> Valid Minimum </td>\n",
              "        <td colspan=\"3\" style=\"text-align:center;background-color:#92CCA6;color:black\"> No Parameters at limit </td>\n",
              "    </tr>\n",
              "    <tr>\n",
              "        <td colspan=\"2\" style=\"text-align:center;background-color:#92CCA6;color:black\"> Below EDM threshold (goal x 10) </td>\n",
              "        <td colspan=\"3\" style=\"text-align:center;background-color:#92CCA6;color:black\"> Below call limit </td>\n",
              "    </tr>\n",
              "    <tr>\n",
              "        <td style=\"text-align:center;background-color:#92CCA6;color:black\"> Covariance </td>\n",
              "        <td style=\"text-align:center;background-color:#92CCA6;color:black\"> Hesse ok </td>\n",
              "        <td style=\"text-align:center;background-color:#92CCA6;color:black\" title=\"Is covariance matrix accurate?\"> Accurate </td>\n",
              "        <td style=\"text-align:center;background-color:#92CCA6;color:black\" title=\"Is covariance matrix positive definite?\"> Pos. def. </td>\n",
              "        <td style=\"text-align:center;background-color:#92CCA6;color:black\" title=\"Was positive definiteness enforced by Minuit?\"> Not forced </td>\n",
              "    </tr>\n",
              "</table><table>\n",
              "    <tr>\n",
              "        <td></td>\n",
              "        <th title=\"Variable name\"> Name </th>\n",
              "        <th title=\"Value of parameter\"> Value </th>\n",
              "        <th title=\"Hesse error\"> Hesse Error </th>\n",
              "        <th title=\"Minos lower error\"> Minos Error- </th>\n",
              "        <th title=\"Minos upper error\"> Minos Error+ </th>\n",
              "        <th title=\"Lower limit of the parameter\"> Limit- </th>\n",
              "        <th title=\"Upper limit of the parameter\"> Limit+ </th>\n",
              "        <th title=\"Is the parameter fixed in the fit\"> Fixed </th>\n",
              "    </tr>\n",
              "    <tr>\n",
              "        <th> 0 </th>\n",
              "        <td> a </td>\n",
              "        <td> -9.48 </td>\n",
              "        <td> 0.08 </td>\n",
              "        <td>  </td>\n",
              "        <td>  </td>\n",
              "        <td>  </td>\n",
              "        <td>  </td>\n",
              "        <td>  </td>\n",
              "    </tr>\n",
              "    <tr>\n",
              "        <th> 1 </th>\n",
              "        <td> b </td>\n",
              "        <td> -2.033 </td>\n",
              "        <td> 0.005 </td>\n",
              "        <td>  </td>\n",
              "        <td>  </td>\n",
              "        <td>  </td>\n",
              "        <td>  </td>\n",
              "        <td>  </td>\n",
              "    </tr>\n",
              "    <tr>\n",
              "        <th> 2 </th>\n",
              "        <td> c </td>\n",
              "        <td> 758.0e-3 </td>\n",
              "        <td> 0.7e-3 </td>\n",
              "        <td>  </td>\n",
              "        <td>  </td>\n",
              "        <td>  </td>\n",
              "        <td>  </td>\n",
              "        <td>  </td>\n",
              "    </tr>\n",
              "</table><table>\n",
              "    <tr>\n",
              "        <td></td>\n",
              "        <th> a </th>\n",
              "        <th> b </th>\n",
              "        <th> c </th>\n",
              "    </tr>\n",
              "    <tr>\n",
              "        <th> a </th>\n",
              "        <td> 0.00569 </td>\n",
              "        <td style=\"background-color:rgb(168,168,250);color:black\"> -0.000221 <strong>(-0.631)</strong> </td>\n",
              "        <td style=\"background-color:rgb(157,157,250);color:black\"> -3.74e-05 <strong>(-0.713)</strong> </td>\n",
              "    </tr>\n",
              "    <tr>\n",
              "        <th> b </th>\n",
              "        <td style=\"background-color:rgb(168,168,250);color:black\"> -0.000221 <strong>(-0.631)</strong> </td>\n",
              "        <td> 2.15e-05 </td>\n",
              "        <td style=\"background-color:rgb(250,223,223);color:black\"> 5.9e-07 <strong>(0.183)</strong> </td>\n",
              "    </tr>\n",
              "    <tr>\n",
              "        <th> c </th>\n",
              "        <td style=\"background-color:rgb(157,157,250);color:black\"> -3.74e-05 <strong>(-0.713)</strong> </td>\n",
              "        <td style=\"background-color:rgb(250,223,223);color:black\"> 5.9e-07 <strong>(0.183)</strong> </td>\n",
              "        <td> 4.84e-07 </td>\n",
              "    </tr>\n",
              "</table>"
            ],
            "text/plain": [
              "┌─────────────────────────────────────────────────────────────────────────┐\n",
              "│                                Migrad                                   │\n",
              "├──────────────────────────────────┬──────────────────────────────────────┤\n",
              "│ FCN = 2.801                      │              Nfcn = 66               │\n",
              "│ EDM = 8.5e-18 (Goal: 0.0002)     │                                      │\n",
              "├──────────────────────────────────┼──────────────────────────────────────┤\n",
              "│          Valid Minimum           │        No Parameters at limit        │\n",
              "├──────────────────────────────────┼──────────────────────────────────────┤\n",
              "│ Below EDM threshold (goal x 10)  │           Below call limit           │\n",
              "├───────────────┬──────────────────┼───────────┬─────────────┬────────────┤\n",
              "│  Covariance   │     Hesse ok     │ Accurate  │  Pos. def.  │ Not forced │\n",
              "└───────────────┴──────────────────┴───────────┴─────────────┴────────────┘\n",
              "┌───┬──────┬───────────┬───────────┬────────────┬────────────┬─────────┬─────────┬───────┐\n",
              "│   │ Name │   Value   │ Hesse Err │ Minos Err- │ Minos Err+ │ Limit-  │ Limit+  │ Fixed │\n",
              "├───┼──────┼───────────┼───────────┼────────────┼────────────┼─────────┼─────────┼───────┤\n",
              "│ 0 │ a    │   -9.48   │   0.08    │            │            │         │         │       │\n",
              "│ 1 │ b    │  -2.033   │   0.005   │            │            │         │         │       │\n",
              "│ 2 │ c    │ 758.0e-3  │  0.7e-3   │            │            │         │         │       │\n",
              "└───┴──────┴───────────┴───────────┴────────────┴────────────┴─────────┴─────────┴───────┘\n",
              "┌───┬───────────────────────────────┐\n",
              "│   │         a         b         c │\n",
              "├───┼───────────────────────────────┤\n",
              "│ a │   0.00569 -0.000221 -3.74e-05 │\n",
              "│ b │ -0.000221  2.15e-05   5.9e-07 │\n",
              "│ c │ -3.74e-05   5.9e-07  4.84e-07 │\n",
              "└───┴───────────────────────────────┘"
            ]
          },
          "metadata": {}
        },
        {
          "output_type": "stream",
          "name": "stdout",
          "text": [
            "Fit value (exp): a = -9.47644 +/- 0.07541\n",
            "Fit value (exp): b = -2.03343 +/- 0.00464\n",
            "Fit value (exp): c = 0.75803 +/- 0.00070\n",
            "  Model fit:  Prob(Chi2=   2.8, Ndof=  2) = 0.24645\n",
            "Mean a: -9.486244852015645\n",
            "Uncertainty on mean of a: 0.05119307540709101\n",
            "Standard deviation of a: 0.012854387632976565\n"
          ]
        },
        {
          "output_type": "display_data",
          "data": {
            "image/png": "[encoded data removed]",
            "text/plain": [
              "<Figure size 1008x432 with 1 Axes>"
            ]
          },
          "metadata": {
            "needs_background": "light"
          }
        },
        {
          "output_type": "display_data",
          "data": {
            "image/png": "[encoded data removed]",
            "text/plain": [
              "<Figure size 1008x432 with 1 Axes>"
            ]
          },
          "metadata": {
            "needs_background": "light"
          }
        },
        {
          "output_type": "display_data",
          "data": {
            "image/png": "[encoded data removed]",
            "text/plain": [
              "<Figure size 1008x432 with 1 Axes>"
            ]
          },
          "metadata": {
            "needs_background": "light"
          }
        },
        {
          "output_type": "display_data",
          "data": {
            "image/png": "[encoded data removed]",
            "text/plain": [
              "<Figure size 1008x432 with 1 Axes>"
            ]
          },
          "metadata": {
            "needs_background": "light"
          }
        }
      ],
      "source": [
        "filenames_V = ['Incline_Vertical_Run1','Incline_Vertical_Run2']#,'Incline_Vertical_Run3']\n",
        "a_V, ea_V, a_mean_V, a_uncertainty_V, a_stdev_V = find_a(filenames_V, width=0.02, veryverbose=True, show_plot=True)"
      ]
    },
    {
      "cell_type": "code",
      "execution_count": 23,
      "metadata": {
        "id": "3q5cdEUiD1rJ"
      },
      "outputs": [],
      "source": [
        "\n"
      ]
    },
    {
      "cell_type": "code",
      "execution_count": 23,
      "metadata": {
        "id": "M6cVq-98D1oY"
      },
      "outputs": [],
      "source": [
        ""
      ]
    },
    {
      "cell_type": "code",
      "execution_count": 23,
      "metadata": {
        "id": "H3TU2zu7D1cp"
      },
      "outputs": [],
      "source": [
        ""
      ]
    },
    {
      "cell_type": "code",
      "execution_count": 24,
      "metadata": {
        "id": "Qrb0-zCrz059"
      },
      "outputs": [],
      "source": [
        "from IPython.core.display import Latex\n",
        "\n",
        "def lprint(*args,**kwargs):\n",
        "    \"\"\"Pretty print arguments as LaTeX using IPython display system \n",
        "    \n",
        "    Parameters\n",
        "    ----------\n",
        "    args : tuple \n",
        "        What to print (in LaTeX math mode)\n",
        "    kwargs : dict \n",
        "        optional keywords to pass to `display` \n",
        "    \"\"\"\n",
        "    display(Latex('$$'+' '.join(args)+'$$'),**kwargs)"
      ]
    },
    {
      "cell_type": "code",
      "execution_count": 25,
      "metadata": {
        "colab": {
          "base_uri": "https://localhost:8080/",
          "height": 172
        },
        "id": "UJXsBmBzz05-",
        "outputId": "da1d2f9e-89f3-42a5-801f-9cd1b2be2eaf"
      },
      "outputs": [
        {
          "output_type": "display_data",
          "data": {
            "text/latex": "$$g = \\frac{a \\left(\\frac{0.4 R^{2}}{R^{2} + \\frac{d^{2}}{4}} + 1\\right)}{\\sin{\\left(\\Delta_{\\theta} + \\theta \\right)}}$$",
            "text/plain": [
              "<IPython.core.display.Latex object>"
            ]
          },
          "metadata": {}
        },
        {
          "output_type": "display_data",
          "data": {
            "text/latex": "$$\\text{True}$$",
            "text/plain": [
              "<IPython.core.display.Latex object>"
            ]
          },
          "metadata": {}
        },
        {
          "output_type": "display_data",
          "data": {
            "text/latex": "$$\\text{True}$$",
            "text/plain": [
              "<IPython.core.display.Latex object>"
            ]
          },
          "metadata": {}
        },
        {
          "output_type": "display_data",
          "data": {
            "text/latex": "$$\\sigma_{g} = \\sqrt{\\frac{0.04 R^{4} a^{2} d^{2} \\sigma_{d}^{2}}{\\left(R^{2} + \\frac{d^{2}}{4}\\right)^{4} \\sin^{2}{\\left(\\Delta_{\\theta} + \\theta \\right)}} + \\frac{a^{2} \\sigma_{\\Delta \\theta}^{2} \\left(\\frac{0.4 R^{2}}{R^{2} + \\frac{d^{2}}{4}} + 1\\right)^{2} \\cos^{2}{\\left(\\Delta_{\\theta} + \\theta \\right)}}{\\sin^{4}{\\left(\\Delta_{\\theta} + \\theta \\right)}} + \\frac{0.64 a^{2} \\sigma_{R}^{2} \\left(- \\frac{R^{3}}{\\left(R^{2} + \\frac{d^{2}}{4}\\right)^{2}} + \\frac{R}{R^{2} + \\frac{d^{2}}{4}}\\right)^{2}}{\\sin^{2}{\\left(\\Delta_{\\theta} + \\theta \\right)}} + \\frac{a^{2} \\sigma_{\\theta}^{2} \\left(\\frac{0.4 R^{2}}{R^{2} + \\frac{d^{2}}{4}} + 1\\right)^{2} \\cos^{2}{\\left(\\Delta_{\\theta} + \\theta \\right)}}{\\sin^{4}{\\left(\\Delta_{\\theta} + \\theta \\right)}} + \\frac{\\sigma_{a}^{2} \\left(\\frac{0.4 R^{2}}{R^{2} + \\frac{d^{2}}{4}} + 1\\right)^{2}}{\\sin^{2}{\\left(\\Delta_{\\theta} + \\theta \\right)}}}$$",
            "text/plain": [
              "<IPython.core.display.Latex object>"
            ]
          },
          "metadata": {}
        }
      ],
      "source": [
        "from sympy import *\n",
        "\n",
        "g, a, s, v, t, x0, theta, Dt, R, d = symbols(\"g, a, s, v, t, x_0, theta, Delta_theta, R, d\")\n",
        "dg, da, ds, dv, dt, dx0, dtheta, dDt, dR, dd = symbols(\"sigma_g, sigma_a, sigma_s, sigma_v, sigma_t, sigma_x_0, sigma_theta, sigma_Delta_theta, sigma_R, sigma_d\")\n",
        "g = (a /sin(theta + Dt))*(1 + (2/5)*(R**2)/(R**2 + (d/2)**2))\n",
        "#s = 1/2 * a*t**2 + v*t + x0\n",
        "#a = 2*(s - v*t - x0)/t**2\n",
        "#da = sqrt((a.diff(t)*dt)**2 + (a.diff(s)*ds)**2)\n",
        "dg = sqrt((g.diff(a)*da)**2 + (g.diff(theta)*dtheta)**2 + (g.diff(Dt)*dDt)**2 + (g.diff(R)*dR)**2 + (g.diff(d)*dd)**2)\n",
        "lprint(latex(Eq(symbols('g'), g)))\n",
        "lprint(latex(Eq(symbols('a'), a)))\n",
        "lprint(latex(Eq(symbols('sigma_a'), da)))\n",
        "lprint(latex(Eq(symbols('sigma_g'), dg)))\n"
      ]
    },
    {
      "cell_type": "code",
      "execution_count": 26,
      "metadata": {
        "colab": {
          "base_uri": "https://localhost:8080/",
          "height": 511
        },
        "id": "Ep19UxPIz05-",
        "outputId": "083506ce-c62e-4f26-a4d9-87c4aabb732e"
      },
      "outputs": [
        {
          "output_type": "display_data",
          "data": {
            "text/latex": "$$\\theta = \\operatorname{atan}{\\left(\\frac{h_{a} - h_{b}}{l} \\right)}$$",
            "text/plain": [
              "<IPython.core.display.Latex object>"
            ]
          },
          "metadata": {}
        },
        {
          "output_type": "display_data",
          "data": {
            "text/latex": "$$\\sigma_{\\theta} = \\sqrt{\\frac{\\sigma_{h a}^{2}}{l^{2} \\left(1 + \\frac{\\left(h_{a} - h_{b}\\right)^{2}}{l^{2}}\\right)^{2}} + \\frac{\\sigma_{h b}^{2}}{l^{2} \\left(1 + \\frac{\\left(h_{a} - h_{b}\\right)^{2}}{l^{2}}\\right)^{2}} + \\frac{\\sigma_{l}^{2} \\left(h_{a} - h_{b}\\right)^{2}}{l^{4} \\left(1 + \\frac{\\left(h_{a} - h_{b}\\right)^{2}}{l^{2}}\\right)^{2}}}$$",
            "text/plain": [
              "<IPython.core.display.Latex object>"
            ]
          },
          "metadata": {}
        },
        {
          "output_type": "display_data",
          "data": {
            "text/latex": "$$g = \\frac{a \\left(\\frac{0.4 R^{2}}{R^{2} - \\frac{d^{2}}{4}} + 1\\right)}{\\sin{\\left(\\Delta_{\\theta} + \\operatorname{atan}{\\left(\\frac{h_{a} - h_{b}}{l} \\right)} \\right)}}$$",
            "text/plain": [
              "<IPython.core.display.Latex object>"
            ]
          },
          "metadata": {}
        },
        {
          "output_type": "display_data",
          "data": {
            "text/latex": "$$\\sigma_{g} = \\sqrt{\\frac{0.04 R^{4} a^{2} d^{2} \\sigma_{d}^{2}}{\\left(R^{2} - \\frac{d^{2}}{4}\\right)^{4} \\sin^{2}{\\left(\\Delta_{\\theta} + \\operatorname{atan}{\\left(\\frac{h_{a} - h_{b}}{l} \\right)} \\right)}} + \\frac{a^{2} \\sigma_{\\Delta \\theta}^{2} \\left(\\frac{0.4 R^{2}}{R^{2} - \\frac{d^{2}}{4}} + 1\\right)^{2} \\cos^{2}{\\left(\\Delta_{\\theta} + \\operatorname{atan}{\\left(\\frac{h_{a} - h_{b}}{l} \\right)} \\right)}}{\\sin^{4}{\\left(\\Delta_{\\theta} + \\operatorname{atan}{\\left(\\frac{h_{a} - h_{b}}{l} \\right)} \\right)}} + \\frac{0.64 a^{2} \\sigma_{R}^{2} \\left(- \\frac{R^{3}}{\\left(R^{2} - \\frac{d^{2}}{4}\\right)^{2}} + \\frac{R}{R^{2} - \\frac{d^{2}}{4}}\\right)^{2}}{\\sin^{2}{\\left(\\Delta_{\\theta} + \\operatorname{atan}{\\left(\\frac{h_{a} - h_{b}}{l} \\right)} \\right)}} + \\frac{a^{2} \\sigma_{h a}^{2} \\left(\\frac{0.4 R^{2}}{R^{2} - \\frac{d^{2}}{4}} + 1\\right)^{2} \\cos^{2}{\\left(\\Delta_{\\theta} + \\operatorname{atan}{\\left(\\frac{h_{a} - h_{b}}{l} \\right)} \\right)}}{l^{2} \\left(1 + \\frac{\\left(h_{a} - h_{b}\\right)^{2}}{l^{2}}\\right)^{2} \\sin^{4}{\\left(\\Delta_{\\theta} + \\operatorname{atan}{\\left(\\frac{h_{a} - h_{b}}{l} \\right)} \\right)}} + \\frac{a^{2} \\sigma_{h b}^{2} \\left(\\frac{0.4 R^{2}}{R^{2} - \\frac{d^{2}}{4}} + 1\\right)^{2} \\cos^{2}{\\left(\\Delta_{\\theta} + \\operatorname{atan}{\\left(\\frac{h_{a} - h_{b}}{l} \\right)} \\right)}}{l^{2} \\left(1 + \\frac{\\left(h_{a} - h_{b}\\right)^{2}}{l^{2}}\\right)^{2} \\sin^{4}{\\left(\\Delta_{\\theta} + \\operatorname{atan}{\\left(\\frac{h_{a} - h_{b}}{l} \\right)} \\right)}} + \\frac{a^{2} \\sigma_{l}^{2} \\left(h_{a} - h_{b}\\right)^{2} \\left(\\frac{0.4 R^{2}}{R^{2} - \\frac{d^{2}}{4}} + 1\\right)^{2} \\cos^{2}{\\left(\\Delta_{\\theta} + \\operatorname{atan}{\\left(\\frac{h_{a} - h_{b}}{l} \\right)} \\right)}}{l^{4} \\left(1 + \\frac{\\left(h_{a} - h_{b}\\right)^{2}}{l^{2}}\\right)^{2} \\sin^{4}{\\left(\\Delta_{\\theta} + \\operatorname{atan}{\\left(\\frac{h_{a} - h_{b}}{l} \\right)} \\right)}} + \\frac{\\sigma_{a}^{2} \\left(\\frac{0.4 R^{2}}{R^{2} - \\frac{d^{2}}{4}} + 1\\right)^{2}}{\\sin^{2}{\\left(\\Delta_{\\theta} + \\operatorname{atan}{\\left(\\frac{h_{a} - h_{b}}{l} \\right)} \\right)}}}$$",
            "text/plain": [
              "<IPython.core.display.Latex object>"
            ]
          },
          "metadata": {}
        },
        {
          "output_type": "display_data",
          "data": {
            "text/latex": "$$g = (8.319 \\pm 0.063)\\,\\mathrm{m/s^2}$$",
            "text/plain": [
              "<IPython.core.display.Latex object>"
            ]
          },
          "metadata": {}
        },
        {
          "output_type": "stream",
          "name": "stdout",
          "text": [
            "[0.00127  0.000615 0.000715]\n",
            "The parameters going into the equation:\n"
          ]
        },
        {
          "output_type": "display_data",
          "data": {
            "text/latex": "$$a = (1.53782 \\pm 0.00786)\\,\\mathrm{m/s^2}$$",
            "text/plain": [
              "<IPython.core.display.Latex object>"
            ]
          },
          "metadata": {}
        },
        {
          "output_type": "display_data",
          "data": {
            "text/latex": "$$h_a = (0.27804 \\pm 0.00010)\\,\\mathrm{m}$$",
            "text/plain": [
              "<IPython.core.display.Latex object>"
            ]
          },
          "metadata": {}
        },
        {
          "output_type": "display_data",
          "data": {
            "text/latex": "$$h_b = (0.03100 \\pm 0.00071)\\,\\mathrm{m}$$",
            "text/plain": [
              "<IPython.core.display.Latex object>"
            ]
          },
          "metadata": {}
        },
        {
          "output_type": "display_data",
          "data": {
            "text/latex": "$$l = (0.92667 \\pm 0.00041)\\,\\mathrm{m}$$",
            "text/plain": [
              "<IPython.core.display.Latex object>"
            ]
          },
          "metadata": {}
        },
        {
          "output_type": "display_data",
          "data": {
            "text/latex": "$$Delta_theta = (0.0060347 \\pm 0.00134)\\,rad$$",
            "text/plain": [
              "<IPython.core.display.Latex object>"
            ]
          },
          "metadata": {}
        },
        {
          "output_type": "display_data",
          "data": {
            "text/latex": "$$R = (0.00127 \\pm 0.00001)\\,\\mathrm{m}$$",
            "text/plain": [
              "<IPython.core.display.Latex object>"
            ]
          },
          "metadata": {}
        },
        {
          "output_type": "display_data",
          "data": {
            "text/latex": "$$d = (0.00061 \\pm 0.00001)\\,\\mathrm{m}$$",
            "text/plain": [
              "<IPython.core.display.Latex object>"
            ]
          },
          "metadata": {}
        },
        {
          "output_type": "stream",
          "name": "stdout",
          "text": [
            "Some intermediate results:\n"
          ]
        },
        {
          "output_type": "display_data",
          "data": {
            "text/latex": "$$theta_trig = (0.26053 \\pm 0.00073)\\,rad$$",
            "text/plain": [
              "<IPython.core.display.Latex object>"
            ]
          },
          "metadata": {}
        }
      ],
      "source": [
        "a, x, v, t, x0 = symbols('a, x, v, t, x_0')\n",
        "da, ds, dv, dt, dx0 = symbols('sigma_a, sigma_s, sigma_v, sigma_t, sigma_x_0')\n",
        "\n",
        "#s = 1/2 * a*t**2 + v*t + x0\n",
        "#a = 2*(s - v*t - x0)/t**2\n",
        "#da = sqrt((a.diff(t)*dt)**2 + (a.diff(s)*ds)**2)\n",
        "\n",
        "#lprint(latex(Eq(symbols('a'), a)))\n",
        "#lprint(latex(Eq(symbols('sigma_a'), da)))\n",
        "# We fit 'a' -> no need to use this calculation, ignore uncertainty on time?\n",
        "\n",
        "# Theta from trigonometry (assuming right angle in triangle):\n",
        "#print(triangle_distances_1_columns)\n",
        "theta, ha, hb, l = symbols('theta, h_a, h_b, l')\n",
        "dtheta, dha, dhb, dl = symbols('sigma_theta, sigma_h_a, sigma_h_b, sigma_l')\n",
        "\n",
        "theta = atan((ha - hb) / l) # angle in radians!\n",
        "dtheta = sqrt((theta.diff(ha)*dha)**2 + (theta.diff(hb)*dhb)**2 + (theta.diff(l)*dl)**2)\n",
        "\n",
        "lprint(latex(Eq(symbols('theta'), theta)))\n",
        "lprint(latex(Eq(symbols('sigma_theta'), dtheta)))\n",
        "\n",
        "g, Dt, R, d = symbols(\"g, Delta_theta, R, d\")\n",
        "dg, dDt, dR, dd = symbols(\"sigma_g, sigma_Delta_theta, sigma_R, sigma_d\")\n",
        "\n",
        "# Unclear what R and d really are and whether they should be divided by 2 or not (so far I've seen all 4 possible combinations)\n",
        "g = (a / sin(atan((ha - hb) / l) + Dt) ) * (1 + (2/5) * (R**2) / (R**2 - (d/2)**2))\n",
        "dg = sqrt((g.diff(a)*da)**2 + (g.diff(ha)*dha)**2 + (g.diff(hb)*dhb)**2 + (g.diff(l)*dl)**2 + (g.diff(Dt)*dDt)**2 + (g.diff(R)*dR)**2 + (g.diff(d)*dd)**2)\n",
        "\n",
        "lprint(latex(Eq(symbols('g'), g)))\n",
        "lprint(latex(Eq(symbols('sigma_g'), dg)))\n",
        "\n",
        "# Turn expression into numerical functions \n",
        "fg = lambdify((a,ha,hb,l,Dt,R,d), g)\n",
        "fdg = lambdify((a,da,ha,dha,hb,dhb,l,dl,Dt,dDt,R,dR,d,dd), dg)\n",
        "\n",
        "# Define values and their errors\n",
        "va,vha,vhb,vl,vDt,vR,vd = -a_mean_N1, triangle_distances_1_mean[0],triangle_distances_1_mean[1],triangle_distances_1_mean[2], gonio_dtheta_1, remaining_parameters_mean[0],remaining_parameters_mean[1]\n",
        "vda,vdha,vdhb,vdl,vdDt,vdR,vdd = a_uncertainty_N1, triangle_distances_1_uncertainty[0],triangle_distances_1_uncertainty[1],triangle_distances_1_uncertainty[2], gonio_edtheta_1, remaining_parameters_uncertainty[0],remaining_parameters_uncertainty[1]\n",
        "\n",
        "# Numerically evaluate expressions and print\n",
        "vg = fg(va,vha,vhb,vl,vDt,vR,vd)\n",
        "vdg = fdg(va,vda,vha,vdha,vhb,vdhb,vl,vdl,vDt,vdDt,vR,vdR,vd,vdd)\n",
        "lprint(fr'g = ({vg:.3f} \\pm {vdg:.3f})\\,\\mathrm{{m/s^2}}')\n",
        "\n",
        "print(remaining_parameters_mean)\n",
        "print('The parameters going into the equation:')\n",
        "lprint(fr'a = ({va:.5f} \\pm {vda:.5f})\\,\\mathrm{{m/s^2}}')\n",
        "lprint(fr'h_a = ({vha:.5f} \\pm {vdha:.5f})\\,\\mathrm{{m}}')\n",
        "lprint(fr'h_b = ({vhb:.5f} \\pm {vdhb:.5f})\\,\\mathrm{{m}}')\n",
        "lprint(fr'l = ({vl:.5f} \\pm {vdl:.5f})\\,\\mathrm{{m}}')\n",
        "lprint(fr'Delta_theta = ({vDt:.5} \\pm {vdDt:.5f})\\,rad')\n",
        "lprint(fr'R = ({vR:.5f} \\pm {vdR:.5f})\\,\\mathrm{{m}}')\n",
        "lprint(fr'd = ({vd:.5f} \\pm {vdd:.5f})\\,\\mathrm{{m}}')\n",
        "\n",
        "print('Some intermediate results:')\n",
        "ftheta = lambdify((ha,hb,l), theta)\n",
        "fdtheta = lambdify((ha,dha,hb,dhb,l,dl), dtheta)\n",
        "vtheta = ftheta(vha,vhb,vl)\n",
        "vdtheta = fdtheta(vha,vdha,vhb,vdhb,vl,vdl)\n",
        "lprint(fr'theta_trig = ({vtheta:.5f} \\pm {vdtheta:.5f})\\,rad')\n"
      ]
    },
    {
      "cell_type": "code",
      "execution_count": 27,
      "metadata": {
        "colab": {
          "base_uri": "https://localhost:8080/",
          "height": 228
        },
        "id": "a4mL7WDmwfOD",
        "outputId": "e28f56eb-c7de-41cf-fc5a-395882525b5d"
      },
      "outputs": [
        {
          "output_type": "display_data",
          "data": {
            "text/latex": "$$g = \\frac{a \\left(\\frac{0.4 R^{2}}{R^{2} - d^{2}} + 1\\right)}{\\sin{\\left(\\theta \\right)}}$$",
            "text/plain": [
              "<IPython.core.display.Latex object>"
            ]
          },
          "metadata": {}
        },
        {
          "output_type": "display_data",
          "data": {
            "text/latex": "$$\\sigma_{g} = \\sqrt{\\frac{0.64 R^{4} a^{2} d^{2} \\sigma_{d}^{2}}{\\left(R^{2} - d^{2}\\right)^{4} \\sin^{2}{\\left(\\theta \\right)}} + \\frac{0.64 a^{2} \\sigma_{R}^{2} \\left(- \\frac{R^{3}}{\\left(R^{2} - d^{2}\\right)^{2}} + \\frac{R}{R^{2} - d^{2}}\\right)^{2}}{\\sin^{2}{\\left(\\theta \\right)}} + \\frac{a^{2} \\sigma_{\\theta}^{2} \\left(\\frac{0.4 R^{2}}{R^{2} - d^{2}} + 1\\right)^{2} \\cos^{2}{\\left(\\theta \\right)}}{\\sin^{4}{\\left(\\theta \\right)}} + \\frac{\\sigma_{a}^{2} \\left(\\frac{0.4 R^{2}}{R^{2} - d^{2}} + 1\\right)^{2}}{\\sin^{2}{\\left(\\theta \\right)}}}$$",
            "text/plain": [
              "<IPython.core.display.Latex object>"
            ]
          },
          "metadata": {}
        },
        {
          "output_type": "display_data",
          "data": {
            "text/latex": "$$g = (8.738 \\pm 0.075)\\,\\mathrm{m/s^2}$$",
            "text/plain": [
              "<IPython.core.display.Latex object>"
            ]
          },
          "metadata": {}
        },
        {
          "output_type": "stream",
          "name": "stdout",
          "text": [
            "The parameters going into the equation:\n"
          ]
        },
        {
          "output_type": "display_data",
          "data": {
            "text/latex": "$$a = (1.53782 \\pm 0.00786)\\,\\mathrm{m/s^2}$$",
            "text/plain": [
              "<IPython.core.display.Latex object>"
            ]
          },
          "metadata": {}
        },
        {
          "output_type": "display_data",
          "data": {
            "text/latex": "$$theta = (0.27127 \\pm 0.00132)\\,rad$$",
            "text/plain": [
              "<IPython.core.display.Latex object>"
            ]
          },
          "metadata": {}
        },
        {
          "output_type": "display_data",
          "data": {
            "text/latex": "$$R = (0.00127 \\pm 0.00001)\\,\\mathrm{m}$$",
            "text/plain": [
              "<IPython.core.display.Latex object>"
            ]
          },
          "metadata": {}
        },
        {
          "output_type": "display_data",
          "data": {
            "text/latex": "$$d = (0.00061 \\pm 0.00001)\\,\\mathrm{m}$$",
            "text/plain": [
              "<IPython.core.display.Latex object>"
            ]
          },
          "metadata": {}
        }
      ],
      "source": [
        "# Theta from goniometer\n",
        "# We measured theta + Delta theta -> simplifies the equation for g\n",
        "\n",
        "g, a, theta, R, d = symbols(\"g, a, theta, R, d\")\n",
        "dg, da, dtheta, dR, dd = symbols(\"sigma_g, sigma_a, sigma_theta, sigma_R, sigma_d\")\n",
        "\n",
        "g = (a / sin(theta) ) * (1 + (2/5) * ((R)**2) / ((R)**2 - (d)**2))\n",
        "dg = sqrt((g.diff(a)*da)**2 + (g.diff(theta)*dtheta)**2 + (g.diff(R)*dR)**2 + (g.diff(d)*dd)**2)\n",
        "\n",
        "lprint(latex(Eq(symbols('g'), g)))\n",
        "lprint(latex(Eq(symbols('sigma_g'), dg)))\n",
        "\n",
        "# Turn expression into numerical functions \n",
        "fg = lambdify((a,theta,R,d), g)\n",
        "fdg = lambdify((a,da,theta,dtheta,R,dR,d,dd), dg)\n",
        "\n",
        "# Define values and their errors\n",
        "va,vtheta,vR,vd = -a_mean_N1, gonio_angles_1_mean[0], remaining_parameters_mean[0],remaining_parameters_mean[1]\n",
        "vda,vdtheta,vdR,vdd = a_uncertainty_N1, gonio_angles_1_uncertainty[0], remaining_parameters_uncertainty[0],remaining_parameters_uncertainty[1]\n",
        "\n",
        "# Numerically evaluate expressions and print\n",
        "vg = fg(va,vtheta,vR,vd)\n",
        "vdg = fdg(va,vda,vtheta,vdtheta,vR,vdR,vd,vdd)\n",
        "lprint(fr'g = ({vg:.3f} \\pm {vdg:.3f})\\,\\mathrm{{m/s^2}}')\n",
        "\n",
        "print('The parameters going into the equation:')\n",
        "lprint(fr'a = ({va:.5f} \\pm {vda:.5f})\\,\\mathrm{{m/s^2}}')\n",
        "lprint(fr'theta = ({vtheta:.5} \\pm {vdtheta:.5f})\\,rad')\n",
        "lprint(fr'R = ({vR:.5f} \\pm {vdR:.5f})\\,\\mathrm{{m}}')\n",
        "lprint(fr'd = ({vd:.5f} \\pm {vdd:.5f})\\,\\mathrm{{m}}')\n"
      ]
    },
    {
      "cell_type": "code",
      "source": [
        "g, a, theta, R, d = symbols(\"g, a, theta, R, d\")\n",
        "dg, da, dtheta, dR, dd = symbols(\"sigma_g, sigma_a, sigma_theta, sigma_R, sigma_d\")\n",
        "\n",
        "g = (a / sin(theta) ) * (1 + (2/5) * ((R)**2) / ((R)**2 - (d)**2))\n",
        "#dg = sqrt((g.diff(a)*da)**2 + (g.diff(theta)*dtheta)**2 + (g.diff(R)*dR)**2 + (g.diff(d)*dd)**2)\n",
        "\n",
        "#lprint(latex(Eq(symbols('g'), g)))\n",
        "#lprint(latex(Eq(symbols('sigma_g'), dg)))\n",
        "\n",
        "# Turn expression into numerical functions \n",
        "#fg = lambdify((a,theta,R,d), g)\n",
        "#fdg = lambdify((a,da,theta,dtheta,R,dR,d,dd), dg)\n",
        "\n",
        "# Find the impact on error for each parameter\n",
        "ia = (g.diff(a)*da)**2\n",
        "itheta = (g.diff(theta)*dtheta)**2\n",
        "iR = (g.diff(R)*dR)**2\n",
        "id = (g.diff(d)*dd)**2\n",
        "\n",
        "# Turn into functions\n",
        "fia = lambdify((a,da,theta,R,d), ia)\n",
        "fitheta = lambdify((a,theta,dtheta,R,d), itheta)\n",
        "fiR = lambdify((a,theta,R,dR,d), iR)\n",
        "fid = lambdify((a,theta,R,d,dd), id)\n",
        "\n",
        "# Define values and their errors\n",
        "va,vtheta,vR,vd = -a_mean_N1, gonio_angles_1_mean[0], remaining_parameters_mean[0],remaining_parameters_mean[1]\n",
        "vda,vdtheta,vdR,vdd = a_uncertainty_N1, gonio_angles_1_uncertainty[0], remaining_parameters_uncertainty[0],remaining_parameters_uncertainty[1]\n",
        "\n",
        "# Numerically evaluate expressions and print\n",
        "#vg = fg(va,vtheta,vR,vd)\n",
        "#vdg = fdg(va,vda,vtheta,vdtheta,vR,vdR,vd,vdd)\n",
        "lprint(fr'g = ({vg:.3f} \\pm {vdg:.3f})\\,\\mathrm{{m/s^2}}')\n",
        "\n",
        "vtheta_degr, vdtheta_degr = vtheta*180/np.pi, vdtheta*180/np.pi\n",
        "print('The parameters going into the equation:')\n",
        "lprint(fr'a = ({va:.5f} \\pm {vda:.5f})\\,\\mathrm{{m/s^2}}')\n",
        "lprint(fr'theta = ({vtheta_degr:.5} \\pm {vdtheta_degr:.5f})\\,degree')\n",
        "lprint(fr'R = ({vR:.5f} \\pm {vdR:.5f})\\,\\mathrm{{m}}')\n",
        "lprint(fr'd = ({vd:.5f} \\pm {vdd:.5f})\\,\\mathrm{{m}}')\n",
        "\n",
        "via = fia(va,vda,vtheta,vR,vd)\n",
        "vitheta = fitheta(va,vtheta,vdtheta,vR,vd)\n",
        "viR = fiR(va,vtheta,vR,vdR,vd)\n",
        "vid = fid(va,vtheta,vR,vd,vdd)\n",
        "\n",
        "print('The Impact of parameters:')\n",
        "lprint(fr'a = {via:.5f} \\,\\mathrm{{m^2/s^4}}')\n",
        "lprint(fr'theta = {vitheta:.5} \\,\\mathrm{{m^2/s^4}}')\n",
        "lprint(fr'R = {viR:.5f} \\,\\mathrm{{m^2/s^4}}')\n",
        "lprint(fr'd = {vid:.5f} \\,\\mathrm{{m^2/s^4}}')"
      ],
      "metadata": {
        "colab": {
          "base_uri": "https://localhost:8080/",
          "height": 246
        },
        "id": "1x5MVV9mfzlk",
        "outputId": "0594115a-eacf-46b2-ac42-4baec87e68f1"
      },
      "execution_count": 28,
      "outputs": [
        {
          "output_type": "display_data",
          "data": {
            "text/latex": "$$g = (8.738 \\pm 0.075)\\,\\mathrm{m/s^2}$$",
            "text/plain": [
              "<IPython.core.display.Latex object>"
            ]
          },
          "metadata": {}
        },
        {
          "output_type": "stream",
          "name": "stdout",
          "text": [
            "The parameters going into the equation:\n"
          ]
        },
        {
          "output_type": "display_data",
          "data": {
            "text/latex": "$$a = (1.53782 \\pm 0.00786)\\,\\mathrm{m/s^2}$$",
            "text/plain": [
              "<IPython.core.display.Latex object>"
            ]
          },
          "metadata": {}
        },
        {
          "output_type": "display_data",
          "data": {
            "text/latex": "$$theta = (15.543 \\pm 0.07559)\\,degree$$",
            "text/plain": [
              "<IPython.core.display.Latex object>"
            ]
          },
          "metadata": {}
        },
        {
          "output_type": "display_data",
          "data": {
            "text/latex": "$$R = (0.00127 \\pm 0.00001)\\,\\mathrm{m}$$",
            "text/plain": [
              "<IPython.core.display.Latex object>"
            ]
          },
          "metadata": {}
        },
        {
          "output_type": "display_data",
          "data": {
            "text/latex": "$$d = (0.00061 \\pm 0.00001)\\,\\mathrm{m}$$",
            "text/plain": [
              "<IPython.core.display.Latex object>"
            ]
          },
          "metadata": {}
        },
        {
          "output_type": "stream",
          "name": "stdout",
          "text": [
            "The Impact of parameters:\n"
          ]
        },
        {
          "output_type": "display_data",
          "data": {
            "text/latex": "$$a = 0.00200 \\,\\mathrm{m^2/s^4}$$",
            "text/plain": [
              "<IPython.core.display.Latex object>"
            ]
          },
          "metadata": {}
        },
        {
          "output_type": "display_data",
          "data": {
            "text/latex": "$$theta = 0.001718 \\,\\mathrm{m^2/s^4}$$",
            "text/plain": [
              "<IPython.core.display.Latex object>"
            ]
          },
          "metadata": {}
        },
        {
          "output_type": "display_data",
          "data": {
            "text/latex": "$$R = 0.00010 \\,\\mathrm{m^2/s^4}$$",
            "text/plain": [
              "<IPython.core.display.Latex object>"
            ]
          },
          "metadata": {}
        },
        {
          "output_type": "display_data",
          "data": {
            "text/latex": "$$d = 0.00179 \\,\\mathrm{m^2/s^4}$$",
            "text/plain": [
              "<IPython.core.display.Latex object>"
            ]
          },
          "metadata": {}
        }
      ]
    },
    {
      "cell_type": "markdown",
      "metadata": {
        "id": "-YXlpfQljUbX"
      },
      "source": [
        "# Calculate g for every experiment (using goniometer angles)"
      ]
    },
    {
      "cell_type": "code",
      "execution_count": 29,
      "metadata": {
        "id": "lGi5DtQlg1Yc"
      },
      "outputs": [],
      "source": [
        "# All the stuff where we set up the equations\n",
        "g, a, theta, R, d = symbols(\"g, a, theta, R, d\")\n",
        "dg, da, dtheta, dR, dd = symbols(\"sigma_g, sigma_a, sigma_theta, sigma_R, sigma_d\")\n",
        "\n",
        "g = (a / sin(theta) ) * (1 + (2/5) * ((R)**2) / ((R)**2 - (d)**2))\n",
        "dg = sqrt((g.diff(a)*da)**2 + (g.diff(theta)*dtheta)**2 + (g.diff(R)*dR)**2 + (g.diff(d)*dd)**2)\n",
        "\n",
        "# Turn expression into numerical functions (these are functions, just like those you get when using 'def')\n",
        "fg = lambdify((a,theta,R,d), g)\n",
        "fdg = lambdify((a,da,theta,dtheta,R,dR,d,dd), dg)\n",
        "\n",
        "# Define values and their errors\n",
        "# Values that are the same for all experiments\n",
        "vR,vd = remaining_parameters_mean[0],remaining_parameters_mean[1]\n",
        "vdR,vdd = remaining_parameters_uncertainty[0],remaining_parameters_uncertainty[1]\n",
        "\n",
        "#Values that vary for each experiment -> function\n",
        "def calculate_g_using_gonio(va,vda, vtheta,vdtheta, verbose=True, veryverbose=False):\n",
        "    global vR,vdR, vd,vdd # Bad practice! Let's go!\n",
        "\n",
        "    # Numerically evaluate expressions and print\n",
        "    vg = fg(va,vtheta,vR,vd)\n",
        "    vdg = fdg(va,vda,vtheta,vdtheta,vR,vdR,vd,vdd)\n",
        "    if verbose:\n",
        "        lprint(fr'g = ({vg:.2f} \\pm {vdg:.2f})\\,\\mathrm{{m/s^2}}')\n",
        "\n",
        "    if veryverbose:\n",
        "        print('The parameters going into the equation:')\n",
        "        lprint(fr'a = ({va:.5f} \\pm {vda:.5f})\\,\\mathrm{{m/s^2}}')\n",
        "        vtheta, vdtheta = vtheta*180/np.pi, vdtheta*180/np.pi\n",
        "        lprint(fr'theta = ({vtheta:.5} \\pm {vdtheta:.5f})\\,rad')\n",
        "        lprint(fr'R = ({vR:.5f} \\pm {vdR:.5f})\\,\\mathrm{{m}}')\n",
        "        lprint(fr'd = ({vd:.5f} \\pm {vdd:.5f})\\,\\mathrm{{m}}')\n",
        "    \n",
        "    return vg, vdg"
      ]
    },
    {
      "cell_type": "code",
      "execution_count": 30,
      "metadata": {
        "colab": {
          "base_uri": "https://localhost:8080/",
          "height": 774
        },
        "id": "mFFoMV0YlkV1",
        "outputId": "4a1857b5-ee3c-4071-fe72-d6cb3c974da5"
      },
      "outputs": [
        {
          "output_type": "stream",
          "name": "stdout",
          "text": [
            "Experiment SN1\n"
          ]
        },
        {
          "output_type": "display_data",
          "data": {
            "text/latex": "$$g = (8.67 \\pm 0.07)\\,\\mathrm{m/s^2}$$",
            "text/plain": [
              "<IPython.core.display.Latex object>"
            ]
          },
          "metadata": {}
        },
        {
          "output_type": "stream",
          "name": "stdout",
          "text": [
            "The parameters going into the equation:\n"
          ]
        },
        {
          "output_type": "display_data",
          "data": {
            "text/latex": "$$a = (1.53782 \\pm 0.00786)\\,\\mathrm{m/s^2}$$",
            "text/plain": [
              "<IPython.core.display.Latex object>"
            ]
          },
          "metadata": {}
        },
        {
          "output_type": "display_data",
          "data": {
            "text/latex": "$$theta = (15.675 \\pm 0.07661)\\,rad$$",
            "text/plain": [
              "<IPython.core.display.Latex object>"
            ]
          },
          "metadata": {}
        },
        {
          "output_type": "display_data",
          "data": {
            "text/latex": "$$R = (0.00127 \\pm 0.00001)\\,\\mathrm{m}$$",
            "text/plain": [
              "<IPython.core.display.Latex object>"
            ]
          },
          "metadata": {}
        },
        {
          "output_type": "display_data",
          "data": {
            "text/latex": "$$d = (0.00061 \\pm 0.00001)\\,\\mathrm{m}$$",
            "text/plain": [
              "<IPython.core.display.Latex object>"
            ]
          },
          "metadata": {}
        },
        {
          "output_type": "stream",
          "name": "stdout",
          "text": [
            "Experiment SF1\n"
          ]
        },
        {
          "output_type": "display_data",
          "data": {
            "text/latex": "$$g = (8.75 \\pm 0.08)\\,\\mathrm{m/s^2}$$",
            "text/plain": [
              "<IPython.core.display.Latex object>"
            ]
          },
          "metadata": {}
        },
        {
          "output_type": "stream",
          "name": "stdout",
          "text": [
            "The parameters going into the equation:\n"
          ]
        },
        {
          "output_type": "display_data",
          "data": {
            "text/latex": "$$a = (1.48609 \\pm 0.00757)\\,\\mathrm{m/s^2}$$",
            "text/plain": [
              "<IPython.core.display.Latex object>"
            ]
          },
          "metadata": {}
        },
        {
          "output_type": "display_data",
          "data": {
            "text/latex": "$$theta = (14.984 \\pm 0.07661)\\,rad$$",
            "text/plain": [
              "<IPython.core.display.Latex object>"
            ]
          },
          "metadata": {}
        },
        {
          "output_type": "display_data",
          "data": {
            "text/latex": "$$R = (0.00127 \\pm 0.00001)\\,\\mathrm{m}$$",
            "text/plain": [
              "<IPython.core.display.Latex object>"
            ]
          },
          "metadata": {}
        },
        {
          "output_type": "display_data",
          "data": {
            "text/latex": "$$d = (0.00061 \\pm 0.00001)\\,\\mathrm{m}$$",
            "text/plain": [
              "<IPython.core.display.Latex object>"
            ]
          },
          "metadata": {}
        },
        {
          "output_type": "stream",
          "name": "stdout",
          "text": [
            "Experiment SN2\n"
          ]
        },
        {
          "output_type": "display_data",
          "data": {
            "text/latex": "$$g = (8.30 \\pm 0.16)\\,\\mathrm{m/s^2}$$",
            "text/plain": [
              "<IPython.core.display.Latex object>"
            ]
          },
          "metadata": {}
        },
        {
          "output_type": "stream",
          "name": "stdout",
          "text": [
            "The parameters going into the equation:\n"
          ]
        },
        {
          "output_type": "display_data",
          "data": {
            "text/latex": "$$a = (0.51276 \\pm 0.00264)\\,\\mathrm{m/s^2}$$",
            "text/plain": [
              "<IPython.core.display.Latex object>"
            ]
          },
          "metadata": {}
        },
        {
          "output_type": "display_data",
          "data": {
            "text/latex": "$$theta = (5.4 \\pm 0.10000)\\,rad$$",
            "text/plain": [
              "<IPython.core.display.Latex object>"
            ]
          },
          "metadata": {}
        },
        {
          "output_type": "display_data",
          "data": {
            "text/latex": "$$R = (0.00127 \\pm 0.00001)\\,\\mathrm{m}$$",
            "text/plain": [
              "<IPython.core.display.Latex object>"
            ]
          },
          "metadata": {}
        },
        {
          "output_type": "display_data",
          "data": {
            "text/latex": "$$d = (0.00061 \\pm 0.00001)\\,\\mathrm{m}$$",
            "text/plain": [
              "<IPython.core.display.Latex object>"
            ]
          },
          "metadata": {}
        },
        {
          "output_type": "stream",
          "name": "stdout",
          "text": [
            "Experiment SF2\n"
          ]
        },
        {
          "output_type": "display_data",
          "data": {
            "text/latex": "$$g = (7.40 \\pm 0.14)\\,\\mathrm{m/s^2}$$",
            "text/plain": [
              "<IPython.core.display.Latex object>"
            ]
          },
          "metadata": {}
        },
        {
          "output_type": "stream",
          "name": "stdout",
          "text": [
            "The parameters going into the equation:\n"
          ]
        },
        {
          "output_type": "display_data",
          "data": {
            "text/latex": "$$a = (0.46557 \\pm 0.00239)\\,\\mathrm{m/s^2}$$",
            "text/plain": [
              "<IPython.core.display.Latex object>"
            ]
          },
          "metadata": {}
        },
        {
          "output_type": "display_data",
          "data": {
            "text/latex": "$$theta = (5.5 \\pm 0.10000)\\,rad$$",
            "text/plain": [
              "<IPython.core.display.Latex object>"
            ]
          },
          "metadata": {}
        },
        {
          "output_type": "display_data",
          "data": {
            "text/latex": "$$R = (0.00127 \\pm 0.00001)\\,\\mathrm{m}$$",
            "text/plain": [
              "<IPython.core.display.Latex object>"
            ]
          },
          "metadata": {}
        },
        {
          "output_type": "display_data",
          "data": {
            "text/latex": "$$d = (0.00061 \\pm 0.00001)\\,\\mathrm{m}$$",
            "text/plain": [
              "<IPython.core.display.Latex object>"
            ]
          },
          "metadata": {}
        },
        {
          "output_type": "stream",
          "name": "stdout",
          "text": [
            "Experiment Vertical\n"
          ]
        },
        {
          "output_type": "display_data",
          "data": {
            "text/latex": "$$g = (14.44 \\pm 0.11)\\,\\mathrm{m/s^2}$$",
            "text/plain": [
              "<IPython.core.display.Latex object>"
            ]
          },
          "metadata": {}
        },
        {
          "output_type": "stream",
          "name": "stdout",
          "text": [
            "The parameters going into the equation:\n"
          ]
        },
        {
          "output_type": "display_data",
          "data": {
            "text/latex": "$$a = (9.48624 \\pm 0.05119)\\,\\mathrm{m/s^2}$$",
            "text/plain": [
              "<IPython.core.display.Latex object>"
            ]
          },
          "metadata": {}
        },
        {
          "output_type": "display_data",
          "data": {
            "text/latex": "$$theta = (90.0 \\pm 0.00000)\\,rad$$",
            "text/plain": [
              "<IPython.core.display.Latex object>"
            ]
          },
          "metadata": {}
        },
        {
          "output_type": "display_data",
          "data": {
            "text/latex": "$$R = (0.00127 \\pm 0.00001)\\,\\mathrm{m}$$",
            "text/plain": [
              "<IPython.core.display.Latex object>"
            ]
          },
          "metadata": {}
        },
        {
          "output_type": "display_data",
          "data": {
            "text/latex": "$$d = (0.00061 \\pm 0.00001)\\,\\mathrm{m}$$",
            "text/plain": [
              "<IPython.core.display.Latex object>"
            ]
          },
          "metadata": {}
        },
        {
          "output_type": "stream",
          "name": "stdout",
          "text": [
            "It's not necessary to take the moment of inertia into account for the vertical case, because the ball doesn't roll over the rail.\n"
          ]
        },
        {
          "output_type": "display_data",
          "data": {
            "text/latex": "$$g = (9.49 \\pm 0.05)\\,\\mathrm{m/s^2}$$",
            "text/plain": [
              "<IPython.core.display.Latex object>"
            ]
          },
          "metadata": {}
        }
      ],
      "source": [
        "acceleration_means = [-a_mean_N1, -a_mean_I1, -a_mean_N2, -a_mean_I2, -a_mean_V]\n",
        "acceleration_uncertainties = [a_uncertainty_N1, a_uncertainty_I1, a_uncertainty_N2, a_uncertainty_I2, a_uncertainty_V]\n",
        "gonio_angles = [gonio_SN_mean_1, gonio_SF_mean_1, gonio_SN_mean_2, gonio_SF_mean_2, np.pi/2]\n",
        "gonio_angles_uncertainties = [gonio_SN_uncertainty_1, gonio_SF_uncertainty_1, gonio_SN_uncertainty_2, gonio_SF_uncertainty_2, 0]\n",
        "exp_names = ['SN1', 'SF1', 'SN2', 'SF2', 'Vertical']\n",
        "\n",
        "gs, egs = [],[] # The g-values and their uncertainties\n",
        "for i in range(5):\n",
        "    print('Experiment '+exp_names[i])\n",
        "    temp_g, temp_eg = calculate_g_using_gonio(acceleration_means[i],acceleration_uncertainties[i], gonio_angles[i],gonio_angles_uncertainties[i], veryverbose=True)\n",
        "    gs.append(temp_g)\n",
        "    egs.append(temp_eg)\n",
        "print('It\\'s not necessary to take the moment of inertia into account for the vertical case, because the ball doesn\\'t roll over the rail.')\n",
        "lprint(fr'g = ({-a_mean_V:.2f} \\pm {a_uncertainty_V:.2f})\\,\\mathrm{{m/s^2}}')"
      ]
    }
  ],
  "metadata": {
    "colab": {
      "collapsed_sections": [],
      "name": "BallOnIncline_1.ipynb",
      "provenance": [],
      "include_colab_link": true
    },
    "kernelspec": {
      "display_name": "Python 3",
      "language": "python",
      "name": "python3"
    },
    "language_info": {
      "codemirror_mode": {
        "name": "ipython",
        "version": 3
      },
      "file_extension": ".py",
      "mimetype": "text/x-python",
      "name": "python",
      "nbconvert_exporter": "python",
      "pygments_lexer": "ipython3",
      "version": "3.8.8"
    }
  },
  "nbformat": 4,
  "nbformat_minor": 0
}